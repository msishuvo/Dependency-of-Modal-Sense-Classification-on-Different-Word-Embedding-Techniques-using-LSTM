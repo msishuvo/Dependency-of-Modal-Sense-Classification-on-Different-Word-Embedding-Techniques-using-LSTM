{
  "nbformat": 4,
  "nbformat_minor": 0,
  "metadata": {
    "colab": {
      "provenance": [],
      "toc_visible": true
    },
    "kernelspec": {
      "name": "python3",
      "display_name": "Python 3"
    },
    "language_info": {
      "name": "python"
    },
    "accelerator": "GPU",
    "gpuClass": "standard"
  },
  "cells": [
    {
      "cell_type": "markdown",
      "source": [
        "# Modal Sense Classification using LSTM"
      ],
      "metadata": {
        "id": "ZgAoDS1DR1To"
      }
    },
    {
      "cell_type": "code",
      "execution_count": null,
      "metadata": {
        "colab": {
          "base_uri": "https://localhost:8080/"
        },
        "id": "tGoqhwZ5HFtV",
        "outputId": "bd11ac8e-f2e2-4900-b1dd-fb0b3af40ed3"
      },
      "outputs": [
        {
          "output_type": "stream",
          "name": "stdout",
          "text": [
            "3.8.15\n"
          ]
        }
      ],
      "source": [
        "# Python version\n",
        "from platform import python_version\n",
        "print(python_version())"
      ]
    },
    {
      "cell_type": "markdown",
      "source": [
        "## Loading Dataset"
      ],
      "metadata": {
        "id": "vQklMqHtRw8A"
      }
    },
    {
      "cell_type": "code",
      "source": [
        "# Loading packages for Data Manipulation\n",
        "import pandas as pd\n",
        "import os\n",
        "import glob\n",
        "import numpy as np"
      ],
      "metadata": {
        "id": "bxePiuG3Je7V"
      },
      "execution_count": null,
      "outputs": []
    },
    {
      "cell_type": "code",
      "source": [
        "# Dataset folder\n",
        "dataset_folder = \"data/MASC\"\n",
        "# List to store dataset (txt files) inside the folder as pandas dataframe\n",
        "df_files = []\n",
        "\n",
        "# Creating a list of pandas dataframe by going through all the text file with column name 'text'& 'modality'\n",
        "for file in glob.glob(os.path.join(dataset_folder,\"*.txt\")):\n",
        "  print(file + \"...Done...\")\n",
        "  df_files.append(pd.read_csv(file, delimiter='\\t', quoting=3, names =['text', 'modality']))"
      ],
      "metadata": {
        "colab": {
          "base_uri": "https://localhost:8080/"
        },
        "id": "7c-6_0qERr0z",
        "outputId": "e416f5d6-7040-4680-d9f3-cc2937a84720"
      },
      "execution_count": null,
      "outputs": [
        {
          "output_type": "stream",
          "name": "stdout",
          "text": [
            "data/MASC/travel-guides__should.txt...Done...\n",
            "data/MASC/fiction__can.txt...Done...\n",
            "data/MASC/movie-script__could.txt...Done...\n",
            "data/MASC/jokes__shall.txt...Done...\n",
            "data/MASC/journal__shall.txt...Done...\n",
            "data/MASC/telephone__can.txt...Done...\n",
            "data/MASC/debate-transcript__may.txt...Done...\n",
            "data/MASC/ficlets__can.txt...Done...\n",
            "data/MASC/fiction__could.txt...Done...\n",
            "data/MASC/non-fiction__may.txt...Done...\n",
            "data/MASC/travel-guides__must.txt...Done...\n",
            "data/MASC/essays__could.txt...Done...\n",
            "data/MASC/court-transcript__may.txt...Done...\n",
            "data/MASC/travel-guides__can.txt...Done...\n",
            "data/MASC/blog__can.txt...Done...\n",
            "data/MASC/blog__could.txt...Done...\n",
            "data/MASC/technical__shall.txt...Done...\n",
            "data/MASC/non-fiction__shall.txt...Done...\n",
            "data/MASC/newspaper__should.txt...Done...\n",
            "data/MASC/movie-script__can.txt...Done...\n",
            "data/MASC/essays__may.txt...Done...\n",
            "data/MASC/govt-docs__shall.txt...Done...\n",
            "data/MASC/fiction__must.txt...Done...\n",
            "data/MASC/telephone__shall.txt...Done...\n",
            "data/MASC/journal__must.txt...Done...\n",
            "data/MASC/twitter__can.txt...Done...\n",
            "data/MASC/letters__could.txt...Done...\n",
            "data/MASC/email__shall.txt...Done...\n",
            "data/MASC/jokes__can.txt...Done...\n",
            "data/MASC/ficlets__shall.txt...Done...\n",
            "data/MASC/journal__should.txt...Done...\n",
            "data/MASC/movie-script__shall.txt...Done...\n",
            "data/MASC/face-to-face__may.txt...Done...\n",
            "data/MASC/technical__can.txt...Done...\n",
            "data/MASC/journal__could.txt...Done...\n",
            "data/MASC/jokes__could.txt...Done...\n",
            "data/MASC/newspaper__may.txt...Done...\n",
            "data/MASC/telephone__should.txt...Done...\n",
            "data/MASC/non-fiction__must.txt...Done...\n",
            "data/MASC/fiction__shall.txt...Done...\n",
            "data/MASC/debate-transcript__should.txt...Done...\n",
            "data/MASC/twitter__should.txt...Done...\n",
            "data/MASC/essays__shall.txt...Done...\n",
            "data/MASC/technical__could.txt...Done...\n",
            "data/MASC/non-fiction__could.txt...Done...\n",
            "data/MASC/email__can.txt...Done...\n",
            "data/MASC/blog__shall.txt...Done...\n",
            "data/MASC/debate-transcript__must.txt...Done...\n",
            "data/MASC/govt-docs__could.txt...Done...\n",
            "data/MASC/letters__must.txt...Done...\n",
            "data/MASC/email__must.txt...Done...\n",
            "data/MASC/telephone__could.txt...Done...\n",
            "data/MASC/letters__may.txt...Done...\n",
            "data/MASC/ficlets__could.txt...Done...\n",
            "data/MASC/letters__shall.txt...Done...\n",
            "data/MASC/email__could.txt...Done...\n",
            "data/MASC/govt-docs__can.txt...Done...\n",
            "data/MASC/journal__can.txt...Done...\n",
            "data/MASC/letters__should.txt...Done...\n",
            "data/MASC/technical__must.txt...Done...\n",
            "data/MASC/email__may.txt...Done...\n",
            "data/MASC/court-transcript__shall.txt...Done...\n",
            "data/MASC/face-to-face__must.txt...Done...\n",
            "data/MASC/twitter__could.txt...Done...\n",
            "data/MASC/face-to-face__shall.txt...Done...\n",
            "data/MASC/letters__can.txt...Done...\n",
            "data/MASC/govt-docs__may.txt...Done...\n",
            "data/MASC/telephone__must.txt...Done...\n",
            "data/MASC/journal__may.txt...Done...\n",
            "data/MASC/jokes__should.txt...Done...\n",
            "data/MASC/face-to-face__can.txt...Done...\n",
            "data/MASC/technical__may.txt...Done...\n",
            "data/MASC/ficlets__should.txt...Done...\n",
            "data/MASC/newspaper__must.txt...Done...\n",
            "data/MASC/newspaper__can.txt...Done...\n",
            "data/MASC/govt-docs__should.txt...Done...\n",
            "data/MASC/face-to-face__should.txt...Done...\n",
            "data/MASC/travel-guides__shall.txt...Done...\n",
            "data/MASC/court-transcript__should.txt...Done...\n",
            "data/MASC/debate-transcript__shall.txt...Done...\n",
            "data/MASC/movie-script__should.txt...Done...\n",
            "data/MASC/newspaper__shall.txt...Done...\n",
            "data/MASC/fiction__should.txt...Done...\n",
            "data/MASC/jokes__must.txt...Done...\n",
            "data/MASC/travel-guides__may.txt...Done...\n",
            "data/MASC/court-transcript__can.txt...Done...\n",
            "data/MASC/blog__may.txt...Done...\n",
            "data/MASC/essays__must.txt...Done...\n",
            "data/MASC/movie-script__may.txt...Done...\n",
            "data/MASC/essays__can.txt...Done...\n",
            "data/MASC/court-transcript__could.txt...Done...\n",
            "data/MASC/twitter__shall.txt...Done...\n",
            "data/MASC/court-transcript__must.txt...Done...\n",
            "data/MASC/ficlets__must.txt...Done...\n",
            "data/MASC/twitter__may.txt...Done...\n",
            "data/MASC/essays__should.txt...Done...\n",
            "data/MASC/movie-script__must.txt...Done...\n",
            "data/MASC/jokes__may.txt...Done...\n",
            "data/MASC/face-to-face__could.txt...Done...\n",
            "data/MASC/blog__should.txt...Done...\n",
            "data/MASC/blog__must.txt...Done...\n",
            "data/MASC/fiction__may.txt...Done...\n",
            "data/MASC/technical__should.txt...Done...\n",
            "data/MASC/non-fiction__should.txt...Done...\n",
            "data/MASC/email__should.txt...Done...\n",
            "data/MASC/telephone__may.txt...Done...\n",
            "data/MASC/govt-docs__must.txt...Done...\n",
            "data/MASC/twitter__must.txt...Done...\n",
            "data/MASC/debate-transcript__can.txt...Done...\n",
            "data/MASC/travel-guides__could.txt...Done...\n",
            "data/MASC/ficlets__may.txt...Done...\n",
            "data/MASC/newspaper__could.txt...Done...\n",
            "data/MASC/debate-transcript__could.txt...Done...\n",
            "data/MASC/non-fiction__can.txt...Done...\n"
          ]
        }
      ]
    },
    {
      "cell_type": "code",
      "source": [
        "# Concatenating the list of dataframes into one\n",
        "df = pd.concat(df_files,ignore_index=True)\n",
        "df.head()"
      ],
      "metadata": {
        "colab": {
          "base_uri": "https://localhost:8080/",
          "height": 206
        },
        "id": "60PkoUKTSbyV",
        "outputId": "b2552855-3e5c-43ab-8871-04599743788b"
      },
      "execution_count": null,
      "outputs": [
        {
          "output_type": "execute_result",
          "data": {
            "text/plain": [
              "                                                text modality\n",
              "0  Dublin theater is legendary , and no visitor s...       de\n",
              "1  The large department stores have fixed prices ...       de\n",
              "2  Before purchasing , visitors should make sure ...       de\n",
              "3  You should always ask for a certificate of gua...       de\n",
              "4  However , you are not likely to find bargains ...       de"
            ],
            "text/html": [
              "<div>\n",
              "<style scoped>\n",
              "    .dataframe tbody tr th:only-of-type {\n",
              "        vertical-align: middle;\n",
              "    }\n",
              "\n",
              "    .dataframe tbody tr th {\n",
              "        vertical-align: top;\n",
              "    }\n",
              "\n",
              "    .dataframe thead th {\n",
              "        text-align: right;\n",
              "    }\n",
              "</style>\n",
              "<table border=\"1\" class=\"dataframe\">\n",
              "  <thead>\n",
              "    <tr style=\"text-align: right;\">\n",
              "      <th></th>\n",
              "      <th>text</th>\n",
              "      <th>modality</th>\n",
              "    </tr>\n",
              "  </thead>\n",
              "  <tbody>\n",
              "    <tr>\n",
              "      <th>0</th>\n",
              "      <td>Dublin theater is legendary , and no visitor s...</td>\n",
              "      <td>de</td>\n",
              "    </tr>\n",
              "    <tr>\n",
              "      <th>1</th>\n",
              "      <td>The large department stores have fixed prices ...</td>\n",
              "      <td>de</td>\n",
              "    </tr>\n",
              "    <tr>\n",
              "      <th>2</th>\n",
              "      <td>Before purchasing , visitors should make sure ...</td>\n",
              "      <td>de</td>\n",
              "    </tr>\n",
              "    <tr>\n",
              "      <th>3</th>\n",
              "      <td>You should always ask for a certificate of gua...</td>\n",
              "      <td>de</td>\n",
              "    </tr>\n",
              "    <tr>\n",
              "      <th>4</th>\n",
              "      <td>However , you are not likely to find bargains ...</td>\n",
              "      <td>de</td>\n",
              "    </tr>\n",
              "  </tbody>\n",
              "</table>\n",
              "</div>"
            ]
          },
          "metadata": {},
          "execution_count": 98
        }
      ]
    },
    {
      "cell_type": "code",
      "source": [
        "# dropping any other modalities except 'ep', 'de' & 'dy'\n",
        "df = df.loc[df['modality'].isin(['ep', 'de', 'dy'])].reset_index(drop=True)"
      ],
      "metadata": {
        "id": "FIiOtHrNqhXL"
      },
      "execution_count": null,
      "outputs": []
    },
    {
      "cell_type": "code",
      "source": [
        "# removing duplicate entries\n",
        "df = df.drop_duplicates(ignore_index = True)"
      ],
      "metadata": {
        "id": "E8vq1DNq0toE"
      },
      "execution_count": null,
      "outputs": []
    },
    {
      "cell_type": "code",
      "source": [
        "len(df['text'])"
      ],
      "metadata": {
        "colab": {
          "base_uri": "https://localhost:8080/"
        },
        "id": "RnLmwvYkhRHY",
        "outputId": "bc9a5eb8-1d52-4d08-c187-178029732d69"
      },
      "execution_count": null,
      "outputs": [
        {
          "output_type": "execute_result",
          "data": {
            "text/plain": [
              "1847"
            ]
          },
          "metadata": {},
          "execution_count": 101
        }
      ]
    },
    {
      "cell_type": "code",
      "source": [
        "# annotating modal verbs for individual text\n",
        "mverb_list = []\n",
        "for i in range(len(df['text'])):\n",
        "  text = str(df['text'][i]).lower()\n",
        "  if text.find('can') != -1:\n",
        "    mverb = 'can'\n",
        "  elif text.find('could') != -1:\n",
        "    mverb = 'could'\n",
        "  elif text.find('may') != -1:\n",
        "    mverb = 'may'\n",
        "  elif text.find('must') != -1:\n",
        "    mverb = 'must'\n",
        "  elif text.find('shall') != -1:\n",
        "    mverb = 'shall'\n",
        "  elif text.find('should') != -1:\n",
        "    mverb = 'should'\n",
        "  mverb_list.append(mverb)"
      ],
      "metadata": {
        "id": "P4IA0Yh1f7cH"
      },
      "execution_count": null,
      "outputs": []
    },
    {
      "cell_type": "code",
      "source": [
        "len(mverb_list)"
      ],
      "metadata": {
        "colab": {
          "base_uri": "https://localhost:8080/"
        },
        "id": "eNoHh-1fimje",
        "outputId": "8da5caeb-37d8-4239-9b4a-e3e16da97265"
      },
      "execution_count": null,
      "outputs": [
        {
          "output_type": "execute_result",
          "data": {
            "text/plain": [
              "1847"
            ]
          },
          "metadata": {},
          "execution_count": 103
        }
      ]
    },
    {
      "cell_type": "code",
      "source": [
        "df['modal_verb'] = mverb_list"
      ],
      "metadata": {
        "id": "4LWQumHnisVI"
      },
      "execution_count": null,
      "outputs": []
    },
    {
      "cell_type": "code",
      "source": [
        "print(df.modal_verb.unique())"
      ],
      "metadata": {
        "colab": {
          "base_uri": "https://localhost:8080/"
        },
        "id": "Cz32ShKqlIui",
        "outputId": "d07421ba-71e4-421b-f4ab-34dd8454e730"
      },
      "execution_count": null,
      "outputs": [
        {
          "output_type": "stream",
          "name": "stdout",
          "text": [
            "['should' 'can' 'could' 'may' 'must' 'shall']\n"
          ]
        }
      ]
    },
    {
      "cell_type": "code",
      "source": [
        "df.shape"
      ],
      "metadata": {
        "colab": {
          "base_uri": "https://localhost:8080/"
        },
        "id": "9ZsPc9BceGi4",
        "outputId": "640f6a1a-c7cf-4d32-8a39-605ce20b7a04"
      },
      "execution_count": null,
      "outputs": [
        {
          "output_type": "execute_result",
          "data": {
            "text/plain": [
              "(1847, 3)"
            ]
          },
          "metadata": {},
          "execution_count": 106
        }
      ]
    },
    {
      "cell_type": "code",
      "source": [
        "df"
      ],
      "metadata": {
        "colab": {
          "base_uri": "https://localhost:8080/",
          "height": 424
        },
        "id": "shryLMoOi5xu",
        "outputId": "88e8f332-5226-4b40-b4fe-ac0b78c9fc65"
      },
      "execution_count": null,
      "outputs": [
        {
          "output_type": "execute_result",
          "data": {
            "text/plain": [
              "                                                   text modality modal_verb\n",
              "0     Dublin theater is legendary , and no visitor s...       de     should\n",
              "1     The large department stores have fixed prices ...       de     should\n",
              "2     Before purchasing , visitors should make sure ...       de     should\n",
              "3     You should always ask for a certificate of gua...       de     should\n",
              "4     However , you are not likely to find bargains ...       de        can\n",
              "...                                                 ...      ...        ...\n",
              "1842  However , because the stream can adjust , the ...       dy        can\n",
              "1843  The probability that a large river can adjust ...       dy        can\n",
              "1844  Changes of valley - floor gradient provide an ...       ep        can\n",
              "1845  For example , deposition upstream from the axi...       dy        can\n",
              "1846  Lakes can also provide information on subsiden...       ep        can\n",
              "\n",
              "[1847 rows x 3 columns]"
            ],
            "text/html": [
              "<div>\n",
              "<style scoped>\n",
              "    .dataframe tbody tr th:only-of-type {\n",
              "        vertical-align: middle;\n",
              "    }\n",
              "\n",
              "    .dataframe tbody tr th {\n",
              "        vertical-align: top;\n",
              "    }\n",
              "\n",
              "    .dataframe thead th {\n",
              "        text-align: right;\n",
              "    }\n",
              "</style>\n",
              "<table border=\"1\" class=\"dataframe\">\n",
              "  <thead>\n",
              "    <tr style=\"text-align: right;\">\n",
              "      <th></th>\n",
              "      <th>text</th>\n",
              "      <th>modality</th>\n",
              "      <th>modal_verb</th>\n",
              "    </tr>\n",
              "  </thead>\n",
              "  <tbody>\n",
              "    <tr>\n",
              "      <th>0</th>\n",
              "      <td>Dublin theater is legendary , and no visitor s...</td>\n",
              "      <td>de</td>\n",
              "      <td>should</td>\n",
              "    </tr>\n",
              "    <tr>\n",
              "      <th>1</th>\n",
              "      <td>The large department stores have fixed prices ...</td>\n",
              "      <td>de</td>\n",
              "      <td>should</td>\n",
              "    </tr>\n",
              "    <tr>\n",
              "      <th>2</th>\n",
              "      <td>Before purchasing , visitors should make sure ...</td>\n",
              "      <td>de</td>\n",
              "      <td>should</td>\n",
              "    </tr>\n",
              "    <tr>\n",
              "      <th>3</th>\n",
              "      <td>You should always ask for a certificate of gua...</td>\n",
              "      <td>de</td>\n",
              "      <td>should</td>\n",
              "    </tr>\n",
              "    <tr>\n",
              "      <th>4</th>\n",
              "      <td>However , you are not likely to find bargains ...</td>\n",
              "      <td>de</td>\n",
              "      <td>can</td>\n",
              "    </tr>\n",
              "    <tr>\n",
              "      <th>...</th>\n",
              "      <td>...</td>\n",
              "      <td>...</td>\n",
              "      <td>...</td>\n",
              "    </tr>\n",
              "    <tr>\n",
              "      <th>1842</th>\n",
              "      <td>However , because the stream can adjust , the ...</td>\n",
              "      <td>dy</td>\n",
              "      <td>can</td>\n",
              "    </tr>\n",
              "    <tr>\n",
              "      <th>1843</th>\n",
              "      <td>The probability that a large river can adjust ...</td>\n",
              "      <td>dy</td>\n",
              "      <td>can</td>\n",
              "    </tr>\n",
              "    <tr>\n",
              "      <th>1844</th>\n",
              "      <td>Changes of valley - floor gradient provide an ...</td>\n",
              "      <td>ep</td>\n",
              "      <td>can</td>\n",
              "    </tr>\n",
              "    <tr>\n",
              "      <th>1845</th>\n",
              "      <td>For example , deposition upstream from the axi...</td>\n",
              "      <td>dy</td>\n",
              "      <td>can</td>\n",
              "    </tr>\n",
              "    <tr>\n",
              "      <th>1846</th>\n",
              "      <td>Lakes can also provide information on subsiden...</td>\n",
              "      <td>ep</td>\n",
              "      <td>can</td>\n",
              "    </tr>\n",
              "  </tbody>\n",
              "</table>\n",
              "<p>1847 rows × 3 columns</p>\n",
              "</div>"
            ]
          },
          "metadata": {},
          "execution_count": 107
        }
      ]
    },
    {
      "cell_type": "code",
      "source": [
        "df.info()"
      ],
      "metadata": {
        "colab": {
          "base_uri": "https://localhost:8080/"
        },
        "id": "o7qa1ysBXbvM",
        "outputId": "00356e5a-0327-4af3-f424-39902cbd8749"
      },
      "execution_count": null,
      "outputs": [
        {
          "output_type": "stream",
          "name": "stdout",
          "text": [
            "<class 'pandas.core.frame.DataFrame'>\n",
            "RangeIndex: 1847 entries, 0 to 1846\n",
            "Data columns (total 3 columns):\n",
            " #   Column      Non-Null Count  Dtype \n",
            "---  ------      --------------  ----- \n",
            " 0   text        1847 non-null   object\n",
            " 1   modality    1847 non-null   object\n",
            " 2   modal_verb  1847 non-null   object\n",
            "dtypes: object(3)\n",
            "memory usage: 43.4+ KB\n"
          ]
        }
      ]
    },
    {
      "cell_type": "code",
      "source": [
        "# value counts of individual modality according to the modal verbs\n",
        "pd.crosstab(df['modality'], df['modal_verb'])"
      ],
      "metadata": {
        "colab": {
          "base_uri": "https://localhost:8080/",
          "height": 175
        },
        "id": "rgy-sCoIsFiK",
        "outputId": "4cd4b557-030b-4e0f-8d43-95ac62cd9904"
      },
      "execution_count": null,
      "outputs": [
        {
          "output_type": "execute_result",
          "data": {
            "text/plain": [
              "modal_verb  can  could  may  must  shall  should\n",
              "modality                                        \n",
              "de          103     16   44    98      1     194\n",
              "dy          671    235    4     0      1       2\n",
              "ep          103    129  194    27      0      25"
            ],
            "text/html": [
              "<div>\n",
              "<style scoped>\n",
              "    .dataframe tbody tr th:only-of-type {\n",
              "        vertical-align: middle;\n",
              "    }\n",
              "\n",
              "    .dataframe tbody tr th {\n",
              "        vertical-align: top;\n",
              "    }\n",
              "\n",
              "    .dataframe thead th {\n",
              "        text-align: right;\n",
              "    }\n",
              "</style>\n",
              "<table border=\"1\" class=\"dataframe\">\n",
              "  <thead>\n",
              "    <tr style=\"text-align: right;\">\n",
              "      <th>modal_verb</th>\n",
              "      <th>can</th>\n",
              "      <th>could</th>\n",
              "      <th>may</th>\n",
              "      <th>must</th>\n",
              "      <th>shall</th>\n",
              "      <th>should</th>\n",
              "    </tr>\n",
              "    <tr>\n",
              "      <th>modality</th>\n",
              "      <th></th>\n",
              "      <th></th>\n",
              "      <th></th>\n",
              "      <th></th>\n",
              "      <th></th>\n",
              "      <th></th>\n",
              "    </tr>\n",
              "  </thead>\n",
              "  <tbody>\n",
              "    <tr>\n",
              "      <th>de</th>\n",
              "      <td>103</td>\n",
              "      <td>16</td>\n",
              "      <td>44</td>\n",
              "      <td>98</td>\n",
              "      <td>1</td>\n",
              "      <td>194</td>\n",
              "    </tr>\n",
              "    <tr>\n",
              "      <th>dy</th>\n",
              "      <td>671</td>\n",
              "      <td>235</td>\n",
              "      <td>4</td>\n",
              "      <td>0</td>\n",
              "      <td>1</td>\n",
              "      <td>2</td>\n",
              "    </tr>\n",
              "    <tr>\n",
              "      <th>ep</th>\n",
              "      <td>103</td>\n",
              "      <td>129</td>\n",
              "      <td>194</td>\n",
              "      <td>27</td>\n",
              "      <td>0</td>\n",
              "      <td>25</td>\n",
              "    </tr>\n",
              "  </tbody>\n",
              "</table>\n",
              "</div>"
            ]
          },
          "metadata": {},
          "execution_count": 109
        }
      ]
    },
    {
      "cell_type": "markdown",
      "source": [
        "## Data Preprocessing"
      ],
      "metadata": {
        "id": "Iw8g1sJGfXVf"
      }
    },
    {
      "cell_type": "code",
      "source": [
        "# keeping only 'ep' and 'de' modalities\n",
        "df_final = df.loc[df['modality'].isin(['ep', 'de'])].reset_index(drop=True)"
      ],
      "metadata": {
        "id": "-6-lPZgyaNfw"
      },
      "execution_count": null,
      "outputs": []
    },
    {
      "cell_type": "code",
      "source": [
        "df_final.info()"
      ],
      "metadata": {
        "colab": {
          "base_uri": "https://localhost:8080/"
        },
        "id": "Fmrmz5o6cCHV",
        "outputId": "1cc10509-55a8-4c2e-86ee-2d74eeaf76e6"
      },
      "execution_count": null,
      "outputs": [
        {
          "output_type": "stream",
          "name": "stdout",
          "text": [
            "<class 'pandas.core.frame.DataFrame'>\n",
            "RangeIndex: 934 entries, 0 to 933\n",
            "Data columns (total 3 columns):\n",
            " #   Column      Non-Null Count  Dtype \n",
            "---  ------      --------------  ----- \n",
            " 0   text        934 non-null    object\n",
            " 1   modality    934 non-null    object\n",
            " 2   modal_verb  934 non-null    object\n",
            "dtypes: object(3)\n",
            "memory usage: 22.0+ KB\n"
          ]
        }
      ]
    },
    {
      "cell_type": "code",
      "source": [
        "df_final.modality.value_counts()"
      ],
      "metadata": {
        "colab": {
          "base_uri": "https://localhost:8080/"
        },
        "id": "MU2IPVFSbqnL",
        "outputId": "34fd6ea6-0f32-493f-cb15-e5e7162c4f94"
      },
      "execution_count": null,
      "outputs": [
        {
          "output_type": "execute_result",
          "data": {
            "text/plain": [
              "ep    478\n",
              "de    456\n",
              "Name: modality, dtype: int64"
            ]
          },
          "metadata": {},
          "execution_count": 112
        }
      ]
    },
    {
      "cell_type": "code",
      "source": [
        "df_final.head()"
      ],
      "metadata": {
        "colab": {
          "base_uri": "https://localhost:8080/",
          "height": 206
        },
        "id": "Qb_7TbLcda4H",
        "outputId": "f291f219-d2f0-410e-bff6-7cafb64c4eb5"
      },
      "execution_count": null,
      "outputs": [
        {
          "output_type": "execute_result",
          "data": {
            "text/plain": [
              "                                                text modality modal_verb\n",
              "0  Dublin theater is legendary , and no visitor s...       de     should\n",
              "1  The large department stores have fixed prices ...       de     should\n",
              "2  Before purchasing , visitors should make sure ...       de     should\n",
              "3  You should always ask for a certificate of gua...       de     should\n",
              "4  However , you are not likely to find bargains ...       de        can"
            ],
            "text/html": [
              "<div>\n",
              "<style scoped>\n",
              "    .dataframe tbody tr th:only-of-type {\n",
              "        vertical-align: middle;\n",
              "    }\n",
              "\n",
              "    .dataframe tbody tr th {\n",
              "        vertical-align: top;\n",
              "    }\n",
              "\n",
              "    .dataframe thead th {\n",
              "        text-align: right;\n",
              "    }\n",
              "</style>\n",
              "<table border=\"1\" class=\"dataframe\">\n",
              "  <thead>\n",
              "    <tr style=\"text-align: right;\">\n",
              "      <th></th>\n",
              "      <th>text</th>\n",
              "      <th>modality</th>\n",
              "      <th>modal_verb</th>\n",
              "    </tr>\n",
              "  </thead>\n",
              "  <tbody>\n",
              "    <tr>\n",
              "      <th>0</th>\n",
              "      <td>Dublin theater is legendary , and no visitor s...</td>\n",
              "      <td>de</td>\n",
              "      <td>should</td>\n",
              "    </tr>\n",
              "    <tr>\n",
              "      <th>1</th>\n",
              "      <td>The large department stores have fixed prices ...</td>\n",
              "      <td>de</td>\n",
              "      <td>should</td>\n",
              "    </tr>\n",
              "    <tr>\n",
              "      <th>2</th>\n",
              "      <td>Before purchasing , visitors should make sure ...</td>\n",
              "      <td>de</td>\n",
              "      <td>should</td>\n",
              "    </tr>\n",
              "    <tr>\n",
              "      <th>3</th>\n",
              "      <td>You should always ask for a certificate of gua...</td>\n",
              "      <td>de</td>\n",
              "      <td>should</td>\n",
              "    </tr>\n",
              "    <tr>\n",
              "      <th>4</th>\n",
              "      <td>However , you are not likely to find bargains ...</td>\n",
              "      <td>de</td>\n",
              "      <td>can</td>\n",
              "    </tr>\n",
              "  </tbody>\n",
              "</table>\n",
              "</div>"
            ]
          },
          "metadata": {},
          "execution_count": 113
        }
      ]
    },
    {
      "cell_type": "markdown",
      "source": [
        "## Train-Test Split"
      ],
      "metadata": {
        "id": "4h5_55YT99Ul"
      }
    },
    {
      "cell_type": "code",
      "source": [
        "# Loading sklearn for train-test split\n",
        "from sklearn.model_selection import train_test_split"
      ],
      "metadata": {
        "id": "YNjUBWhw3BcX"
      },
      "execution_count": null,
      "outputs": []
    },
    {
      "cell_type": "code",
      "source": [
        "# Converting the columns to list\n",
        "x = df_final['text'].tolist()\n",
        "y = df_final['modality'].tolist()"
      ],
      "metadata": {
        "id": "hlNPS-Gvg9o_"
      },
      "execution_count": null,
      "outputs": []
    },
    {
      "cell_type": "code",
      "source": [
        "# Spliting the data for 70% train data, 15% validation data, and 15% test data \n",
        "x_train, x_rem, y_train, y_rem = train_test_split(x, y, train_size=0.7, shuffle=True)\n",
        "x_val, x_test, y_val, y_test = train_test_split(x_rem, y_rem, test_size=0.5, shuffle=True)"
      ],
      "metadata": {
        "id": "YdGgWuhmftKU"
      },
      "execution_count": null,
      "outputs": []
    },
    {
      "cell_type": "code",
      "source": [
        "# Checking the sizes of each split\n",
        "print(\"Train Set: \",len(x_train), len(y_train))\n",
        "print(\"Validation Set: \",len(x_val), len(y_val))\n",
        "print(\"Test Set: \",len(x_test), len(y_test))"
      ],
      "metadata": {
        "colab": {
          "base_uri": "https://localhost:8080/"
        },
        "id": "_zlaK5R_lWFf",
        "outputId": "721bd9d2-906d-4f24-8002-a273cf65500a"
      },
      "execution_count": null,
      "outputs": [
        {
          "output_type": "stream",
          "name": "stdout",
          "text": [
            "Train Set:  653 653\n",
            "Validation Set:  140 140\n",
            "Test Set:  141 141\n"
          ]
        }
      ]
    },
    {
      "cell_type": "code",
      "source": [
        "# Checking the maximum length of the sentences\n",
        "max_train = max([len(s.split()) for s in x_train])\n",
        "max_test = max([len(s.split()) for s in x_test])\n",
        "max_val = max([len(s.split()) for s in x_val])"
      ],
      "metadata": {
        "id": "XT2afx4qmrKQ"
      },
      "execution_count": null,
      "outputs": []
    },
    {
      "cell_type": "code",
      "source": [
        "print(\"Max train length\", max_train)\n",
        "print(\"Max test length\", max_test)\n",
        "print(\"Max validation length\", max_val)"
      ],
      "metadata": {
        "colab": {
          "base_uri": "https://localhost:8080/"
        },
        "id": "OyZbMCMd0vlQ",
        "outputId": "399c7c43-86b4-411d-deaa-358485b6635f"
      },
      "execution_count": null,
      "outputs": [
        {
          "output_type": "stream",
          "name": "stdout",
          "text": [
            "Max train length 76\n",
            "Max test length 80\n",
            "Max validation length 74\n"
          ]
        }
      ]
    },
    {
      "cell_type": "markdown",
      "source": [
        "## Padding"
      ],
      "metadata": {
        "id": "j-fwDp75drJI"
      }
    },
    {
      "cell_type": "code",
      "source": [
        "# Loading package for padding\n",
        "from tensorflow.keras.preprocessing.sequence import pad_sequences"
      ],
      "metadata": {
        "id": "1C5PQeVfcxZI"
      },
      "execution_count": null,
      "outputs": []
    },
    {
      "cell_type": "code",
      "source": [
        "# Padding to have same length according to the maximum sentence length\n",
        "def pad_text(embeddedSents):\n",
        "  padded = pad_sequences(embeddedSents, padding= 'post', dtype='float32', truncating = 'post', maxlen = 80)\n",
        "  return padded"
      ],
      "metadata": {
        "id": "ZHsz7T4zS2z2"
      },
      "execution_count": null,
      "outputs": []
    },
    {
      "cell_type": "markdown",
      "source": [
        "## Label Encoding"
      ],
      "metadata": {
        "id": "0cXl4fe5doVd"
      }
    },
    {
      "cell_type": "code",
      "source": [
        "# Loading packages for One-Hot Encoding\n",
        "from sklearn.preprocessing import LabelEncoder\n",
        "from keras.utils import to_categorical\n",
        "from numpy import array"
      ],
      "metadata": {
        "id": "bsm9S3T1eV55"
      },
      "execution_count": null,
      "outputs": []
    },
    {
      "cell_type": "code",
      "source": [
        "# Encode Labels into Categorical One-Hot Vectors\n",
        "def encode_y(labels):\n",
        "  label_encoder = LabelEncoder()\n",
        "  # transform string labels into integers\n",
        "  y_encoded = label_encoder.fit_transform(labels) \n",
        "  return y_encoded"
      ],
      "metadata": {
        "id": "ZulZtgS6dDvh"
      },
      "execution_count": null,
      "outputs": []
    },
    {
      "cell_type": "code",
      "source": [
        "# Converting to binary encoding\n",
        "y_e_train = encode_y(y_train)\n",
        "y_e_val = encode_y(y_val)\n",
        "y_e_test = encode_y(y_test)"
      ],
      "metadata": {
        "id": "xxRXLQukd9NO"
      },
      "execution_count": null,
      "outputs": []
    },
    {
      "cell_type": "code",
      "source": [
        "y_e_train.shape"
      ],
      "metadata": {
        "colab": {
          "base_uri": "https://localhost:8080/"
        },
        "id": "_ofwo3VrfJbA",
        "outputId": "b378461e-004c-45dd-e861-dbe7b6fb9f2c"
      },
      "execution_count": null,
      "outputs": [
        {
          "output_type": "execute_result",
          "data": {
            "text/plain": [
              "(653,)"
            ]
          },
          "metadata": {},
          "execution_count": 22
        }
      ]
    },
    {
      "cell_type": "markdown",
      "source": [
        "## Word Embeddings"
      ],
      "metadata": {
        "id": "J2sk48Zb-Doh"
      }
    },
    {
      "cell_type": "code",
      "source": [
        "!pip install flair"
      ],
      "metadata": {
        "colab": {
          "base_uri": "https://localhost:8080/"
        },
        "id": "eQ1g09Nub5kE",
        "outputId": "7e3fb0ee-48d0-4afd-c67a-d4708900f594"
      },
      "execution_count": null,
      "outputs": [
        {
          "output_type": "stream",
          "name": "stdout",
          "text": [
            "Looking in indexes: https://pypi.org/simple, https://us-python.pkg.dev/colab-wheels/public/simple/\n",
            "Requirement already satisfied: flair in /usr/local/lib/python3.8/dist-packages (0.11.3)\n",
            "Requirement already satisfied: transformers>=4.0.0 in /usr/local/lib/python3.8/dist-packages (from flair) (4.25.1)\n",
            "Requirement already satisfied: langdetect in /usr/local/lib/python3.8/dist-packages (from flair) (1.0.9)\n",
            "Requirement already satisfied: janome in /usr/local/lib/python3.8/dist-packages (from flair) (0.4.2)\n",
            "Requirement already satisfied: deprecated>=1.2.4 in /usr/local/lib/python3.8/dist-packages (from flair) (1.2.13)\n",
            "Requirement already satisfied: lxml in /usr/local/lib/python3.8/dist-packages (from flair) (4.9.2)\n",
            "Requirement already satisfied: scikit-learn>=0.21.3 in /usr/local/lib/python3.8/dist-packages (from flair) (1.0.2)\n",
            "Requirement already satisfied: ftfy in /usr/local/lib/python3.8/dist-packages (from flair) (6.1.1)\n",
            "Requirement already satisfied: regex in /usr/local/lib/python3.8/dist-packages (from flair) (2022.6.2)\n",
            "Requirement already satisfied: tqdm>=4.26.0 in /usr/local/lib/python3.8/dist-packages (from flair) (4.64.1)\n",
            "Requirement already satisfied: conllu>=4.0 in /usr/local/lib/python3.8/dist-packages (from flair) (4.5.2)\n",
            "Requirement already satisfied: wikipedia-api in /usr/local/lib/python3.8/dist-packages (from flair) (0.5.8)\n",
            "Requirement already satisfied: sqlitedict>=1.6.0 in /usr/local/lib/python3.8/dist-packages (from flair) (2.1.0)\n",
            "Requirement already satisfied: torch!=1.8,>=1.5.0 in /usr/local/lib/python3.8/dist-packages (from flair) (1.13.0+cu116)\n",
            "Requirement already satisfied: sentencepiece==0.1.95 in /usr/local/lib/python3.8/dist-packages (from flair) (0.1.95)\n",
            "Requirement already satisfied: gdown==4.4.0 in /usr/local/lib/python3.8/dist-packages (from flair) (4.4.0)\n",
            "Requirement already satisfied: gensim>=3.4.0 in /usr/local/lib/python3.8/dist-packages (from flair) (3.6.0)\n",
            "Requirement already satisfied: pptree in /usr/local/lib/python3.8/dist-packages (from flair) (3.1)\n",
            "Requirement already satisfied: more-itertools in /usr/local/lib/python3.8/dist-packages (from flair) (9.0.0)\n",
            "Requirement already satisfied: hyperopt>=0.2.7 in /usr/local/lib/python3.8/dist-packages (from flair) (0.2.7)\n",
            "Requirement already satisfied: matplotlib>=2.2.3 in /usr/local/lib/python3.8/dist-packages (from flair) (3.2.2)\n",
            "Requirement already satisfied: mpld3==0.3 in /usr/local/lib/python3.8/dist-packages (from flair) (0.3)\n",
            "Requirement already satisfied: bpemb>=0.3.2 in /usr/local/lib/python3.8/dist-packages (from flair) (0.3.4)\n",
            "Requirement already satisfied: segtok>=1.5.7 in /usr/local/lib/python3.8/dist-packages (from flair) (1.5.11)\n",
            "Requirement already satisfied: tabulate in /usr/local/lib/python3.8/dist-packages (from flair) (0.8.10)\n",
            "Requirement already satisfied: konoha<5.0.0,>=4.0.0 in /usr/local/lib/python3.8/dist-packages (from flair) (4.6.5)\n",
            "Requirement already satisfied: huggingface-hub in /usr/local/lib/python3.8/dist-packages (from flair) (0.11.1)\n",
            "Requirement already satisfied: python-dateutil>=2.6.1 in /usr/local/lib/python3.8/dist-packages (from flair) (2.8.2)\n",
            "Requirement already satisfied: filelock in /usr/local/lib/python3.8/dist-packages (from gdown==4.4.0->flair) (3.8.2)\n",
            "Requirement already satisfied: beautifulsoup4 in /usr/local/lib/python3.8/dist-packages (from gdown==4.4.0->flair) (4.6.3)\n",
            "Requirement already satisfied: six in /usr/local/lib/python3.8/dist-packages (from gdown==4.4.0->flair) (1.15.0)\n",
            "Requirement already satisfied: requests[socks] in /usr/local/lib/python3.8/dist-packages (from gdown==4.4.0->flair) (2.28.1)\n",
            "Requirement already satisfied: numpy in /usr/local/lib/python3.8/dist-packages (from bpemb>=0.3.2->flair) (1.21.6)\n",
            "Requirement already satisfied: wrapt<2,>=1.10 in /usr/local/lib/python3.8/dist-packages (from deprecated>=1.2.4->flair) (1.14.1)\n",
            "Requirement already satisfied: scipy>=0.18.1 in /usr/local/lib/python3.8/dist-packages (from gensim>=3.4.0->flair) (1.7.3)\n",
            "Requirement already satisfied: smart-open>=1.2.1 in /usr/local/lib/python3.8/dist-packages (from gensim>=3.4.0->flair) (6.3.0)\n",
            "Requirement already satisfied: cloudpickle in /usr/local/lib/python3.8/dist-packages (from hyperopt>=0.2.7->flair) (1.5.0)\n",
            "Requirement already satisfied: py4j in /usr/local/lib/python3.8/dist-packages (from hyperopt>=0.2.7->flair) (0.10.9.7)\n",
            "Requirement already satisfied: networkx>=2.2 in /usr/local/lib/python3.8/dist-packages (from hyperopt>=0.2.7->flair) (2.8.8)\n",
            "Requirement already satisfied: future in /usr/local/lib/python3.8/dist-packages (from hyperopt>=0.2.7->flair) (0.16.0)\n",
            "Requirement already satisfied: overrides<4.0.0,>=3.0.0 in /usr/local/lib/python3.8/dist-packages (from konoha<5.0.0,>=4.0.0->flair) (3.1.0)\n",
            "Requirement already satisfied: importlib-metadata<4.0.0,>=3.7.0 in /usr/local/lib/python3.8/dist-packages (from konoha<5.0.0,>=4.0.0->flair) (3.10.1)\n",
            "Requirement already satisfied: zipp>=0.5 in /usr/local/lib/python3.8/dist-packages (from importlib-metadata<4.0.0,>=3.7.0->konoha<5.0.0,>=4.0.0->flair) (3.11.0)\n",
            "Requirement already satisfied: cycler>=0.10 in /usr/local/lib/python3.8/dist-packages (from matplotlib>=2.2.3->flair) (0.11.0)\n",
            "Requirement already satisfied: pyparsing!=2.0.4,!=2.1.2,!=2.1.6,>=2.0.1 in /usr/local/lib/python3.8/dist-packages (from matplotlib>=2.2.3->flair) (3.0.9)\n",
            "Requirement already satisfied: kiwisolver>=1.0.1 in /usr/local/lib/python3.8/dist-packages (from matplotlib>=2.2.3->flair) (1.4.4)\n",
            "Requirement already satisfied: urllib3<1.27,>=1.21.1 in /usr/local/lib/python3.8/dist-packages (from requests[socks]->gdown==4.4.0->flair) (1.24.3)\n",
            "Requirement already satisfied: certifi>=2017.4.17 in /usr/local/lib/python3.8/dist-packages (from requests[socks]->gdown==4.4.0->flair) (2022.12.7)\n",
            "Requirement already satisfied: charset-normalizer<3,>=2 in /usr/local/lib/python3.8/dist-packages (from requests[socks]->gdown==4.4.0->flair) (2.1.1)\n",
            "Requirement already satisfied: idna<4,>=2.5 in /usr/local/lib/python3.8/dist-packages (from requests[socks]->gdown==4.4.0->flair) (2.10)\n",
            "Requirement already satisfied: threadpoolctl>=2.0.0 in /usr/local/lib/python3.8/dist-packages (from scikit-learn>=0.21.3->flair) (3.1.0)\n",
            "Requirement already satisfied: joblib>=0.11 in /usr/local/lib/python3.8/dist-packages (from scikit-learn>=0.21.3->flair) (1.2.0)\n",
            "Requirement already satisfied: typing-extensions in /usr/local/lib/python3.8/dist-packages (from torch!=1.8,>=1.5.0->flair) (4.4.0)\n",
            "Requirement already satisfied: packaging>=20.0 in /usr/local/lib/python3.8/dist-packages (from transformers>=4.0.0->flair) (21.3)\n",
            "Requirement already satisfied: tokenizers!=0.11.3,<0.14,>=0.11.1 in /usr/local/lib/python3.8/dist-packages (from transformers>=4.0.0->flair) (0.13.2)\n",
            "Requirement already satisfied: pyyaml>=5.1 in /usr/local/lib/python3.8/dist-packages (from transformers>=4.0.0->flair) (6.0)\n",
            "Requirement already satisfied: wcwidth>=0.2.5 in /usr/local/lib/python3.8/dist-packages (from ftfy->flair) (0.2.5)\n",
            "Requirement already satisfied: PySocks!=1.5.7,>=1.5.6 in /usr/local/lib/python3.8/dist-packages (from requests[socks]->gdown==4.4.0->flair) (1.7.1)\n"
          ]
        }
      ]
    },
    {
      "cell_type": "code",
      "source": [
        "# Loading packages for Word Embeddings\n",
        "from flair.data import Sentence\n",
        "from flair.embeddings import TransformerWordEmbeddings"
      ],
      "metadata": {
        "id": "U2_DERXg-SSk"
      },
      "execution_count": null,
      "outputs": []
    },
    {
      "cell_type": "code",
      "source": [
        "# General method to convert into different word embedding techniques\n",
        "def embed_text(text, embeddings):\n",
        "  embeddedSents = []\n",
        "  for line in text:\n",
        "    sent = Sentence(line)\n",
        "    # transform each sentence into word vector sequence\n",
        "    embeddings.embed(sent) \n",
        "    embeddedSents.append([t.embedding.cpu().numpy() for t in sent])\n",
        "  return embeddedSents"
      ],
      "metadata": {
        "id": "n0gPQZHZQcz0"
      },
      "execution_count": null,
      "outputs": []
    },
    {
      "cell_type": "markdown",
      "source": [
        "### XLNet"
      ],
      "metadata": {
        "id": "wUKw87tE-Hlf"
      }
    },
    {
      "cell_type": "code",
      "source": [
        "# init XLNet embedding\n",
        "em_xlnet = TransformerWordEmbeddings('xlnet-large-cased') # this might take a long time for the first time"
      ],
      "metadata": {
        "id": "CKVALP9T1U1u"
      },
      "execution_count": null,
      "outputs": []
    },
    {
      "cell_type": "code",
      "source": [
        "# Embedding each set. This will take some time.\n",
        "x_train_xlnet = embed_text(x_train, em_xlnet)\n",
        "x_val_xlnet = embed_text(x_val, em_xlnet)\n",
        "x_test_xlnet = embed_text(x_test, em_xlnet)"
      ],
      "metadata": {
        "id": "vdbntZvNOyEh"
      },
      "execution_count": null,
      "outputs": []
    },
    {
      "cell_type": "markdown",
      "source": [
        "#### Padding for XLNet "
      ],
      "metadata": {
        "id": "Y7sS2xx00eFA"
      }
    },
    {
      "cell_type": "code",
      "source": [
        "# Padding each set\n",
        "x_ftr_xlnet = pad_text(x_train_xlnet)\n",
        "x_fv_xlnet = pad_text(x_val_xlnet)\n",
        "x_fts_xlnet = pad_text(x_test_xlnet)"
      ],
      "metadata": {
        "id": "opk68ssDTbDn"
      },
      "execution_count": null,
      "outputs": []
    },
    {
      "cell_type": "code",
      "source": [
        "x_ftr_xlnet.shape"
      ],
      "metadata": {
        "colab": {
          "base_uri": "https://localhost:8080/"
        },
        "id": "XuCstpa1gbWV",
        "outputId": "28675b90-18c0-4229-bf7e-683c279a8c5e"
      },
      "execution_count": null,
      "outputs": [
        {
          "output_type": "execute_result",
          "data": {
            "text/plain": [
              "(653, 80, 1024)"
            ]
          },
          "metadata": {},
          "execution_count": 31
        }
      ]
    },
    {
      "cell_type": "markdown",
      "source": [
        "#### LSTM with XLNet"
      ],
      "metadata": {
        "id": "Dv-yvR-r1Rmf"
      }
    },
    {
      "cell_type": "code",
      "source": [
        "# Loading packages for LSTM model\n",
        "import tensorflow as tf\n",
        "from tensorflow.keras import regularizers\n",
        "\n",
        "from tensorflow.keras import layers\n",
        "from tensorflow.keras import losses"
      ],
      "metadata": {
        "id": "DF6kOFIQVS7k"
      },
      "execution_count": null,
      "outputs": []
    },
    {
      "cell_type": "code",
      "source": [
        "# Model initialization\n",
        "max_features = 50000\n",
        "dim = 1024\n",
        "size = 80\n",
        "\n",
        "model_xlnet = tf.keras.Sequential()\n",
        "#model_xlnet.add(tf.keras.layers.Embedding(max_features, dim, input_length = size))\n",
        "#model_xlnet.add(tf.keras.layers.Dropout(0.4))\n",
        "\n",
        "model_xlnet.add(tf.keras.layers.LSTM(dim, input_shape=(80,1024), dropout=0.2, recurrent_dropout=0.2, return_sequences=True))\n",
        "model_xlnet.add(tf.keras.layers.Flatten())\n",
        "\n",
        "model_xlnet.add(tf.keras.layers.Dense(512, activation='relu'))\n",
        "model_xlnet.add(tf.keras.layers.Dropout(0.4))\n",
        "\n",
        "model_xlnet.add(tf.keras.layers.Dense(128, activation='relu'))\n",
        "model_xlnet.add(tf.keras.layers.Dropout(0.4))\n",
        "\n",
        "model_xlnet.add(tf.keras.layers.Dense(32, activation='relu'))\n",
        "model_xlnet.add(tf.keras.layers.Dropout(0.4))\n",
        "\n",
        "model_xlnet.add(tf.keras.layers.Dense(1,activation='sigmoid'))\n",
        "\n",
        "model_xlnet.summary()\n",
        "model_xlnet.compile(loss=tf.keras.losses.BinaryCrossentropy(),\n",
        "              optimizer=tf.keras.optimizers.legacy.Adam(1e-3),\n",
        "              metrics=[tf.keras.metrics.BinaryAccuracy()])"
      ],
      "metadata": {
        "colab": {
          "base_uri": "https://localhost:8080/"
        },
        "id": "Dab4FT6tgZ0q",
        "outputId": "cd052541-752e-4ea4-ae48-c628b4be67e3"
      },
      "execution_count": null,
      "outputs": [
        {
          "output_type": "stream",
          "name": "stderr",
          "text": [
            "WARNING:tensorflow:Layer lstm will not use cuDNN kernels since it doesn't meet the criteria. It will use a generic GPU kernel as fallback when running on GPU.\n"
          ]
        },
        {
          "output_type": "stream",
          "name": "stdout",
          "text": [
            "Model: \"sequential\"\n",
            "_________________________________________________________________\n",
            " Layer (type)                Output Shape              Param #   \n",
            "=================================================================\n",
            " lstm (LSTM)                 (None, 80, 1024)          8392704   \n",
            "                                                                 \n",
            " flatten (Flatten)           (None, 81920)             0         \n",
            "                                                                 \n",
            " dense (Dense)               (None, 512)               41943552  \n",
            "                                                                 \n",
            " dropout (Dropout)           (None, 512)               0         \n",
            "                                                                 \n",
            " dense_1 (Dense)             (None, 128)               65664     \n",
            "                                                                 \n",
            " dropout_1 (Dropout)         (None, 128)               0         \n",
            "                                                                 \n",
            " dense_2 (Dense)             (None, 32)                4128      \n",
            "                                                                 \n",
            " dropout_2 (Dropout)         (None, 32)                0         \n",
            "                                                                 \n",
            " dense_3 (Dense)             (None, 1)                 33        \n",
            "                                                                 \n",
            "=================================================================\n",
            "Total params: 50,406,081\n",
            "Trainable params: 50,406,081\n",
            "Non-trainable params: 0\n",
            "_________________________________________________________________\n"
          ]
        }
      ]
    },
    {
      "cell_type": "code",
      "source": [
        "# Training the model\n",
        "history_xlnet = model_xlnet.fit(x = x_ftr_xlnet, y = y_e_train, \n",
        "                          validation_data = (x_fv_xlnet, y_e_val), \n",
        "                          shuffle = True, epochs = 20, batch_size = 128)"
      ],
      "metadata": {
        "colab": {
          "base_uri": "https://localhost:8080/"
        },
        "id": "r3d0mUE7iyBd",
        "outputId": "12b42063-a09b-49f3-f326-e83e3ba6936f"
      },
      "execution_count": null,
      "outputs": [
        {
          "output_type": "stream",
          "name": "stdout",
          "text": [
            "Epoch 1/20\n",
            "6/6 [==============================] - 6s 554ms/step - loss: 2.1715 - binary_accuracy: 0.4946 - val_loss: 0.7060 - val_binary_accuracy: 0.5000\n",
            "Epoch 2/20\n",
            "6/6 [==============================] - 4s 664ms/step - loss: 0.9018 - binary_accuracy: 0.5253 - val_loss: 0.7103 - val_binary_accuracy: 0.4714\n",
            "Epoch 3/20\n",
            "6/6 [==============================] - 4s 584ms/step - loss: 0.8379 - binary_accuracy: 0.5237 - val_loss: 0.6975 - val_binary_accuracy: 0.5714\n",
            "Epoch 4/20\n",
            "6/6 [==============================] - 3s 431ms/step - loss: 0.7574 - binary_accuracy: 0.5406 - val_loss: 0.6929 - val_binary_accuracy: 0.5357\n",
            "Epoch 5/20\n",
            "6/6 [==============================] - 3s 426ms/step - loss: 0.7379 - binary_accuracy: 0.5008 - val_loss: 0.6989 - val_binary_accuracy: 0.4214\n",
            "Epoch 6/20\n",
            "6/6 [==============================] - 3s 424ms/step - loss: 0.7125 - binary_accuracy: 0.5253 - val_loss: 0.6950 - val_binary_accuracy: 0.4786\n",
            "Epoch 7/20\n",
            "6/6 [==============================] - 3s 430ms/step - loss: 0.6988 - binary_accuracy: 0.5268 - val_loss: 0.6781 - val_binary_accuracy: 0.6429\n",
            "Epoch 8/20\n",
            "6/6 [==============================] - 3s 471ms/step - loss: 0.6803 - binary_accuracy: 0.5620 - val_loss: 0.6895 - val_binary_accuracy: 0.5643\n",
            "Epoch 9/20\n",
            "6/6 [==============================] - 3s 485ms/step - loss: 0.6832 - binary_accuracy: 0.5574 - val_loss: 0.6703 - val_binary_accuracy: 0.6500\n",
            "Epoch 10/20\n",
            "6/6 [==============================] - 3s 433ms/step - loss: 0.6620 - binary_accuracy: 0.6080 - val_loss: 0.6660 - val_binary_accuracy: 0.6357\n",
            "Epoch 11/20\n",
            "6/6 [==============================] - 3s 429ms/step - loss: 0.6319 - binary_accuracy: 0.6340 - val_loss: 0.6993 - val_binary_accuracy: 0.6643\n",
            "Epoch 12/20\n",
            "6/6 [==============================] - 3s 433ms/step - loss: 0.5359 - binary_accuracy: 0.7366 - val_loss: 0.5697 - val_binary_accuracy: 0.7071\n",
            "Epoch 13/20\n",
            "6/6 [==============================] - 2s 417ms/step - loss: 0.5869 - binary_accuracy: 0.7090 - val_loss: 0.6526 - val_binary_accuracy: 0.6143\n",
            "Epoch 14/20\n",
            "6/6 [==============================] - 3s 431ms/step - loss: 0.4968 - binary_accuracy: 0.8116 - val_loss: 0.7064 - val_binary_accuracy: 0.6643\n",
            "Epoch 15/20\n",
            "6/6 [==============================] - 3s 440ms/step - loss: 0.4415 - binary_accuracy: 0.8208 - val_loss: 0.5096 - val_binary_accuracy: 0.7071\n",
            "Epoch 16/20\n",
            "6/6 [==============================] - 3s 444ms/step - loss: 0.3491 - binary_accuracy: 0.8484 - val_loss: 0.5551 - val_binary_accuracy: 0.7000\n",
            "Epoch 17/20\n",
            "6/6 [==============================] - 3s 435ms/step - loss: 0.3557 - binary_accuracy: 0.8606 - val_loss: 0.5709 - val_binary_accuracy: 0.7643\n",
            "Epoch 18/20\n",
            "6/6 [==============================] - 3s 434ms/step - loss: 0.2348 - binary_accuracy: 0.9112 - val_loss: 0.7554 - val_binary_accuracy: 0.7714\n",
            "Epoch 19/20\n",
            "6/6 [==============================] - 3s 430ms/step - loss: 0.1793 - binary_accuracy: 0.9464 - val_loss: 0.8865 - val_binary_accuracy: 0.7571\n",
            "Epoch 20/20\n",
            "6/6 [==============================] - 3s 423ms/step - loss: 0.1448 - binary_accuracy: 0.9418 - val_loss: 1.1461 - val_binary_accuracy: 0.5857\n"
          ]
        }
      ]
    },
    {
      "cell_type": "code",
      "source": [
        "# Saving the model\n",
        "model_xlnet.save('lstm_xlnet.h5') "
      ],
      "metadata": {
        "id": "nk42RKoEigDB"
      },
      "execution_count": null,
      "outputs": []
    },
    {
      "cell_type": "code",
      "source": [
        "# Loading the model\n",
        "#loaded_model_xlnet = tf.keras.models.load_model('lstm_xlnet.h5')"
      ],
      "metadata": {
        "id": "Q7ozjhj5lMBz"
      },
      "execution_count": null,
      "outputs": []
    },
    {
      "cell_type": "code",
      "source": [
        "# Evaluating the model\n",
        "results_xlnet = model_xlnet.evaluate(x_fts_xlnet,y_e_test)"
      ],
      "metadata": {
        "colab": {
          "base_uri": "https://localhost:8080/"
        },
        "id": "M0ddtEsYwXKl",
        "outputId": "20056859-bfad-4078-ecb2-623aabcef2e6"
      },
      "execution_count": null,
      "outputs": [
        {
          "output_type": "stream",
          "name": "stdout",
          "text": [
            "5/5 [==============================] - 0s 75ms/step - loss: 0.7621 - binary_accuracy: 0.7376\n"
          ]
        }
      ]
    },
    {
      "cell_type": "markdown",
      "source": [
        "### RoBERTa"
      ],
      "metadata": {
        "id": "RQVE946txPzL"
      }
    },
    {
      "cell_type": "code",
      "source": [
        "# init RoBERTa embedding\n",
        "em_rba = TransformerWordEmbeddings('roberta-large') # this might take a long time for the first time"
      ],
      "metadata": {
        "id": "6MuyseYbxRxW"
      },
      "execution_count": null,
      "outputs": []
    },
    {
      "cell_type": "code",
      "source": [
        "# Embedding each set. This will take some time.\n",
        "x_train_rba = embed_text(x_train, em_rba)\n",
        "x_val_rba = embed_text(x_val, em_rba)\n",
        "x_test_rba = embed_text(x_test, em_rba)"
      ],
      "metadata": {
        "id": "CrFlOMY0yw48"
      },
      "execution_count": null,
      "outputs": []
    },
    {
      "cell_type": "markdown",
      "source": [
        "#### Padding for RoBERTa"
      ],
      "metadata": {
        "id": "C3z524NZ0dmQ"
      }
    },
    {
      "cell_type": "code",
      "source": [
        "# Padding each set\n",
        "x_ftr_rba = pad_text(x_train_rba)\n",
        "x_fv_rba = pad_text(x_val_rba)\n",
        "x_fts_rba = pad_text(x_test_rba)"
      ],
      "metadata": {
        "id": "ExwNKQ060jCW"
      },
      "execution_count": null,
      "outputs": []
    },
    {
      "cell_type": "code",
      "source": [
        "x_ftr_rba.shape"
      ],
      "metadata": {
        "colab": {
          "base_uri": "https://localhost:8080/"
        },
        "id": "rNHu8p4C0x7Q",
        "outputId": "59f4f361-1ace-4275-ee5d-f97c2c6e6c9e"
      },
      "execution_count": null,
      "outputs": [
        {
          "output_type": "execute_result",
          "data": {
            "text/plain": [
              "(653, 80, 1024)"
            ]
          },
          "metadata": {},
          "execution_count": 41
        }
      ]
    },
    {
      "cell_type": "markdown",
      "source": [
        "#### LSTM with RoBERTa"
      ],
      "metadata": {
        "id": "Kis2E0oTxC9d"
      }
    },
    {
      "cell_type": "code",
      "source": [
        "# Loading packages for LSTM model\n",
        "import tensorflow as tf\n",
        "from tensorflow.keras import regularizers\n",
        "\n",
        "from tensorflow.keras import layers\n",
        "from tensorflow.keras import losses\n",
        "\n",
        "# Model initialization\n",
        "max_features = 50000\n",
        "dim = 1024\n",
        "size = 80\n",
        "\n",
        "model_rba = tf.keras.Sequential()\n",
        "#model_rba.add(tf.keras.layers.Embedding(max_features, dim, input_length = size))\n",
        "#model_rba.add(tf.keras.layers.Dropout(0.4))\n",
        "\n",
        "model_rba.add(tf.keras.layers.LSTM(dim, input_shape=(80,1024), dropout=0.2, recurrent_dropout=0.2, return_sequences=True))\n",
        "model_rba.add(tf.keras.layers.Flatten())\n",
        "\n",
        "model_rba.add(tf.keras.layers.Dense(512, activation='relu'))\n",
        "model_rba.add(tf.keras.layers.Dropout(0.4))\n",
        "\n",
        "model_rba.add(tf.keras.layers.Dense(128, activation='relu'))\n",
        "model_rba.add(tf.keras.layers.Dropout(0.4))\n",
        "\n",
        "model_rba.add(tf.keras.layers.Dense(32, activation='relu'))\n",
        "model_rba.add(tf.keras.layers.Dropout(0.4))\n",
        "\n",
        "model_rba.add(tf.keras.layers.Dense(1,activation='sigmoid'))\n",
        "\n",
        "model_rba.summary()\n",
        "model_rba.compile(loss=tf.keras.losses.BinaryCrossentropy(),\n",
        "                  optimizer=tf.keras.optimizers.legacy.Adam(1e-3),\n",
        "                  metrics=[tf.keras.metrics.BinaryAccuracy()])"
      ],
      "metadata": {
        "colab": {
          "base_uri": "https://localhost:8080/"
        },
        "id": "pXOzxkq3A-Ep",
        "outputId": "17debdb8-03f4-46f5-bdb1-229606eb4a3c"
      },
      "execution_count": null,
      "outputs": [
        {
          "output_type": "stream",
          "name": "stderr",
          "text": [
            "WARNING:tensorflow:Layer lstm_1 will not use cuDNN kernels since it doesn't meet the criteria. It will use a generic GPU kernel as fallback when running on GPU.\n"
          ]
        },
        {
          "output_type": "stream",
          "name": "stdout",
          "text": [
            "Model: \"sequential_1\"\n",
            "_________________________________________________________________\n",
            " Layer (type)                Output Shape              Param #   \n",
            "=================================================================\n",
            " lstm_1 (LSTM)               (None, 80, 1024)          8392704   \n",
            "                                                                 \n",
            " flatten_1 (Flatten)         (None, 81920)             0         \n",
            "                                                                 \n",
            " dense_4 (Dense)             (None, 512)               41943552  \n",
            "                                                                 \n",
            " dropout_3 (Dropout)         (None, 512)               0         \n",
            "                                                                 \n",
            " dense_5 (Dense)             (None, 128)               65664     \n",
            "                                                                 \n",
            " dropout_4 (Dropout)         (None, 128)               0         \n",
            "                                                                 \n",
            " dense_6 (Dense)             (None, 32)                4128      \n",
            "                                                                 \n",
            " dropout_5 (Dropout)         (None, 32)                0         \n",
            "                                                                 \n",
            " dense_7 (Dense)             (None, 1)                 33        \n",
            "                                                                 \n",
            "=================================================================\n",
            "Total params: 50,406,081\n",
            "Trainable params: 50,406,081\n",
            "Non-trainable params: 0\n",
            "_________________________________________________________________\n"
          ]
        }
      ]
    },
    {
      "cell_type": "code",
      "source": [
        "# Training the model\n",
        "history_rba = model_rba.fit(x = x_ftr_rba, y = y_e_train, \n",
        "                          validation_data = (x_fv_rba, y_e_val), \n",
        "                          shuffle = True, epochs = 20, batch_size = 128)"
      ],
      "metadata": {
        "colab": {
          "base_uri": "https://localhost:8080/"
        },
        "id": "dnSmvbNpxM9q",
        "outputId": "da3f083d-b8b3-45ec-a2e8-b64bc836f0a7"
      },
      "execution_count": null,
      "outputs": [
        {
          "output_type": "stream",
          "name": "stdout",
          "text": [
            "Epoch 1/20\n",
            "6/6 [==============================] - 5s 502ms/step - loss: 2.7762 - binary_accuracy: 0.5023 - val_loss: 1.4436 - val_binary_accuracy: 0.3786\n",
            "Epoch 2/20\n",
            "6/6 [==============================] - 3s 430ms/step - loss: 1.0428 - binary_accuracy: 0.5084 - val_loss: 0.6818 - val_binary_accuracy: 0.6143\n",
            "Epoch 3/20\n",
            "6/6 [==============================] - 3s 437ms/step - loss: 0.7608 - binary_accuracy: 0.5176 - val_loss: 0.6753 - val_binary_accuracy: 0.6143\n",
            "Epoch 4/20\n",
            "6/6 [==============================] - 3s 452ms/step - loss: 0.7434 - binary_accuracy: 0.5375 - val_loss: 0.6753 - val_binary_accuracy: 0.6071\n",
            "Epoch 5/20\n",
            "6/6 [==============================] - 3s 435ms/step - loss: 0.6966 - binary_accuracy: 0.5773 - val_loss: 0.6801 - val_binary_accuracy: 0.6286\n",
            "Epoch 6/20\n",
            "6/6 [==============================] - 3s 432ms/step - loss: 0.6807 - binary_accuracy: 0.6080 - val_loss: 0.6385 - val_binary_accuracy: 0.6786\n",
            "Epoch 7/20\n",
            "6/6 [==============================] - 3s 437ms/step - loss: 0.6584 - binary_accuracy: 0.6080 - val_loss: 0.6049 - val_binary_accuracy: 0.6929\n",
            "Epoch 8/20\n",
            "6/6 [==============================] - 3s 433ms/step - loss: 0.5920 - binary_accuracy: 0.6830 - val_loss: 0.5418 - val_binary_accuracy: 0.7786\n",
            "Epoch 9/20\n",
            "6/6 [==============================] - 3s 434ms/step - loss: 0.5168 - binary_accuracy: 0.7779 - val_loss: 0.4490 - val_binary_accuracy: 0.8071\n",
            "Epoch 10/20\n",
            "6/6 [==============================] - 3s 434ms/step - loss: 0.5698 - binary_accuracy: 0.7427 - val_loss: 0.4574 - val_binary_accuracy: 0.8357\n",
            "Epoch 11/20\n",
            "6/6 [==============================] - 3s 433ms/step - loss: 0.4248 - binary_accuracy: 0.8239 - val_loss: 0.4229 - val_binary_accuracy: 0.8357\n",
            "Epoch 12/20\n",
            "6/6 [==============================] - 3s 444ms/step - loss: 0.3584 - binary_accuracy: 0.8698 - val_loss: 0.4080 - val_binary_accuracy: 0.8643\n",
            "Epoch 13/20\n",
            "6/6 [==============================] - 3s 487ms/step - loss: 0.3016 - binary_accuracy: 0.8913 - val_loss: 0.3728 - val_binary_accuracy: 0.8143\n",
            "Epoch 14/20\n",
            "6/6 [==============================] - 3s 439ms/step - loss: 0.3724 - binary_accuracy: 0.8315 - val_loss: 0.5955 - val_binary_accuracy: 0.7214\n",
            "Epoch 15/20\n",
            "6/6 [==============================] - 3s 438ms/step - loss: 0.3499 - binary_accuracy: 0.8668 - val_loss: 0.3893 - val_binary_accuracy: 0.8214\n",
            "Epoch 16/20\n",
            "6/6 [==============================] - 3s 433ms/step - loss: 0.3454 - binary_accuracy: 0.8499 - val_loss: 0.4301 - val_binary_accuracy: 0.8429\n",
            "Epoch 17/20\n",
            "6/6 [==============================] - 3s 433ms/step - loss: 0.2772 - binary_accuracy: 0.8790 - val_loss: 0.5879 - val_binary_accuracy: 0.8000\n",
            "Epoch 18/20\n",
            "6/6 [==============================] - 3s 431ms/step - loss: 0.3237 - binary_accuracy: 0.8744 - val_loss: 0.3433 - val_binary_accuracy: 0.8571\n",
            "Epoch 19/20\n",
            "6/6 [==============================] - 3s 429ms/step - loss: 0.2707 - binary_accuracy: 0.8806 - val_loss: 0.3780 - val_binary_accuracy: 0.8714\n",
            "Epoch 20/20\n",
            "6/6 [==============================] - 3s 431ms/step - loss: 0.2093 - binary_accuracy: 0.9280 - val_loss: 0.3966 - val_binary_accuracy: 0.9000\n"
          ]
        }
      ]
    },
    {
      "cell_type": "code",
      "source": [
        "# Saving the model\n",
        "model_rba.save('lstm_roberta.h5') "
      ],
      "metadata": {
        "id": "CCnNymStjDrX"
      },
      "execution_count": null,
      "outputs": []
    },
    {
      "cell_type": "code",
      "source": [
        "# Loading the model\n",
        "#loaded_model_rba = tf.keras.models.load_model('lstm_roberta.h5')"
      ],
      "metadata": {
        "id": "_nn0YmLwlcxz"
      },
      "execution_count": null,
      "outputs": []
    },
    {
      "cell_type": "code",
      "source": [
        "# Evaluating the model\n",
        "results_rba = model_rba.evaluate(x_fts_rba,y_e_test)"
      ],
      "metadata": {
        "colab": {
          "base_uri": "https://localhost:8080/"
        },
        "id": "2nraO2ed9cEY",
        "outputId": "d4af8194-1c45-4233-cb08-95f0c21b5994"
      },
      "execution_count": null,
      "outputs": [
        {
          "output_type": "stream",
          "name": "stdout",
          "text": [
            "5/5 [==============================] - 0s 75ms/step - loss: 0.4722 - binary_accuracy: 0.8227\n"
          ]
        }
      ]
    },
    {
      "cell_type": "markdown",
      "source": [
        "## Cross Validation"
      ],
      "metadata": {
        "id": "XBI0hwjH1KRl"
      }
    },
    {
      "cell_type": "code",
      "source": [
        "from sklearn.model_selection import StratifiedKFold"
      ],
      "metadata": {
        "id": "PGAktppIE1gO"
      },
      "execution_count": null,
      "outputs": []
    },
    {
      "cell_type": "code",
      "source": [
        "kfold = StratifiedKFold(n_splits=5, shuffle=True, random_state=7)"
      ],
      "metadata": {
        "id": "SwjVH96NE7Af"
      },
      "execution_count": null,
      "outputs": []
    },
    {
      "cell_type": "markdown",
      "source": [
        "### Data Preperation"
      ],
      "metadata": {
        "id": "exSkULp8EFz9"
      }
    },
    {
      "cell_type": "code",
      "source": [
        "# Converting whole dataset to One-Hot encoding\n",
        "label_encoder = LabelEncoder()\n",
        "y_final = label_encoder.fit_transform(y)"
      ],
      "metadata": {
        "id": "GEg7iIQlD50D"
      },
      "execution_count": null,
      "outputs": []
    },
    {
      "cell_type": "code",
      "source": [
        "y_final.shape"
      ],
      "metadata": {
        "colab": {
          "base_uri": "https://localhost:8080/"
        },
        "id": "EPKn_vO8D9_j",
        "outputId": "d630bd3f-e50d-4006-d62a-a958e503b9fd"
      },
      "execution_count": null,
      "outputs": [
        {
          "output_type": "execute_result",
          "data": {
            "text/plain": [
              "(934,)"
            ]
          },
          "metadata": {},
          "execution_count": 29
        }
      ]
    },
    {
      "cell_type": "markdown",
      "source": [
        "### Cross Validation with XLNet"
      ],
      "metadata": {
        "id": "-OMW23mZQFhp"
      }
    },
    {
      "cell_type": "code",
      "source": [
        "# Converting whole dataset with Word Embeddings\n",
        "# This might take some time\n",
        "x_xlnet = embed_text(x, em_xlnet)"
      ],
      "metadata": {
        "id": "aggKanhP1NGk"
      },
      "execution_count": null,
      "outputs": []
    },
    {
      "cell_type": "code",
      "source": [
        "# Padding for whole dataset\n",
        "x_pad_xlnet = pad_text(x_xlnet)"
      ],
      "metadata": {
        "id": "Lm9f4MQ2DaOe"
      },
      "execution_count": null,
      "outputs": []
    },
    {
      "cell_type": "code",
      "source": [
        "x_pad_xlnet.shape"
      ],
      "metadata": {
        "colab": {
          "base_uri": "https://localhost:8080/"
        },
        "id": "VIxniyqJDoZ1",
        "outputId": "f40dba92-0632-47ca-9537-60ae7fa73824"
      },
      "execution_count": null,
      "outputs": [
        {
          "output_type": "execute_result",
          "data": {
            "text/plain": [
              "(934, 80, 1024)"
            ]
          },
          "metadata": {},
          "execution_count": 28
        }
      ]
    },
    {
      "cell_type": "code",
      "source": [
        "# Loading packages for LSTM model\n",
        "import tensorflow as tf\n",
        "from tensorflow.keras import regularizers\n",
        "\n",
        "from tensorflow.keras import layers\n",
        "from tensorflow.keras import losses"
      ],
      "metadata": {
        "id": "YjnyXXonH9DU"
      },
      "execution_count": null,
      "outputs": []
    },
    {
      "cell_type": "code",
      "source": [
        "# List to store cv scores\n",
        "cvscores_xlnet = []\n",
        "# Model initialization\n",
        "max_features = 50000\n",
        "dim = 1024\n",
        "size = 80\n",
        "\n",
        "for train, test in kfold.split(x_pad_xlnet, y_final):\n",
        "  model_xlnet = tf.keras.Sequential()\n",
        "  #model_xlnet.add(tf.keras.layers.Embedding(max_features, dim, input_length = size))\n",
        "  #model_xlnet.add(tf.keras.layers.Dropout(0.4))\n",
        "\n",
        "  model_xlnet.add(tf.keras.layers.Bidirectional(tf.keras.layers.LSTM(dim, dropout=0.2, recurrent_dropout=0.2, \n",
        "                                                                     return_sequences=True),input_shape=(80,1024)))\n",
        "  model_xlnet.add(tf.keras.layers.Flatten())\n",
        "\n",
        "  model_xlnet.add(tf.keras.layers.Dense(512, activation='relu'))\n",
        "  model_xlnet.add(tf.keras.layers.Dropout(0.4))\n",
        "\n",
        "  model_xlnet.add(tf.keras.layers.Dense(128, activation='relu'))\n",
        "  model_xlnet.add(tf.keras.layers.Dropout(0.4))\n",
        "\n",
        "  model_xlnet.add(tf.keras.layers.Dense(32, activation='relu'))\n",
        "  model_xlnet.add(tf.keras.layers.Dropout(0.4))\n",
        "\n",
        "  model_xlnet.add(tf.keras.layers.Dense(1, activation='sigmoid'))\n",
        "\n",
        "  model_xlnet.summary()\n",
        "  model_xlnet.compile(loss=tf.keras.losses.BinaryCrossentropy(),\n",
        "                      optimizer=tf.keras.optimizers.legacy.Adam(1e-3),\n",
        "                      metrics=[tf.keras.metrics.BinaryAccuracy()])\n",
        "  \n",
        "  # Training the model\n",
        "  model_xlnet.fit(x_pad_xlnet[train], y_final[train], epochs = 20, batch_size = 128)\n",
        "  # Evaluating the model\n",
        "  scores_xlnet = model_xlnet.evaluate(x_pad_xlnet[test], y_final[test], verbose=0)\n",
        "  print(\"Model Accuracy: \", scores_xlnet[1]*100)\n",
        "  cvscores_xlnet.append(scores_xlnet[1] * 100)"
      ],
      "metadata": {
        "colab": {
          "base_uri": "https://localhost:8080/"
        },
        "id": "fpOcXxigFHWQ",
        "outputId": "6c863ef5-3024-4066-a85a-305e885a8f25"
      },
      "execution_count": null,
      "outputs": [
        {
          "output_type": "stream",
          "name": "stderr",
          "text": [
            "WARNING:tensorflow:Layer lstm will not use cuDNN kernels since it doesn't meet the criteria. It will use a generic GPU kernel as fallback when running on GPU.\n",
            "WARNING:tensorflow:Layer lstm will not use cuDNN kernels since it doesn't meet the criteria. It will use a generic GPU kernel as fallback when running on GPU.\n",
            "WARNING:tensorflow:Layer lstm will not use cuDNN kernels since it doesn't meet the criteria. It will use a generic GPU kernel as fallback when running on GPU.\n"
          ]
        },
        {
          "output_type": "stream",
          "name": "stdout",
          "text": [
            "Model: \"sequential\"\n",
            "_________________________________________________________________\n",
            " Layer (type)                Output Shape              Param #   \n",
            "=================================================================\n",
            " bidirectional (Bidirectiona  (None, 80, 2048)         16785408  \n",
            " l)                                                              \n",
            "                                                                 \n",
            " flatten (Flatten)           (None, 163840)            0         \n",
            "                                                                 \n",
            " dense (Dense)               (None, 512)               83886592  \n",
            "                                                                 \n",
            " dropout (Dropout)           (None, 512)               0         \n",
            "                                                                 \n",
            " dense_1 (Dense)             (None, 128)               65664     \n",
            "                                                                 \n",
            " dropout_1 (Dropout)         (None, 128)               0         \n",
            "                                                                 \n",
            " dense_2 (Dense)             (None, 32)                4128      \n",
            "                                                                 \n",
            " dropout_2 (Dropout)         (None, 32)                0         \n",
            "                                                                 \n",
            " dense_3 (Dense)             (None, 1)                 33        \n",
            "                                                                 \n",
            "=================================================================\n",
            "Total params: 100,741,825\n",
            "Trainable params: 100,741,825\n",
            "Non-trainable params: 0\n",
            "_________________________________________________________________\n",
            "Epoch 1/20\n",
            "6/6 [==============================] - 9s 754ms/step - loss: 3.0167 - binary_accuracy: 0.5087\n",
            "Epoch 2/20\n",
            "6/6 [==============================] - 5s 758ms/step - loss: 0.9264 - binary_accuracy: 0.4926\n",
            "Epoch 3/20\n",
            "6/6 [==============================] - 5s 775ms/step - loss: 0.7977 - binary_accuracy: 0.5141\n",
            "Epoch 4/20\n",
            "6/6 [==============================] - 5s 771ms/step - loss: 0.7513 - binary_accuracy: 0.5234\n",
            "Epoch 5/20\n",
            "6/6 [==============================] - 5s 770ms/step - loss: 0.7118 - binary_accuracy: 0.5341\n",
            "Epoch 6/20\n",
            "6/6 [==============================] - 5s 766ms/step - loss: 0.7149 - binary_accuracy: 0.5395\n",
            "Epoch 7/20\n",
            "6/6 [==============================] - 5s 767ms/step - loss: 0.7220 - binary_accuracy: 0.4993\n",
            "Epoch 8/20\n",
            "6/6 [==============================] - 5s 764ms/step - loss: 0.7044 - binary_accuracy: 0.5141\n",
            "Epoch 9/20\n",
            "6/6 [==============================] - 5s 765ms/step - loss: 0.6961 - binary_accuracy: 0.5475\n",
            "Epoch 10/20\n",
            "6/6 [==============================] - 5s 787ms/step - loss: 0.6779 - binary_accuracy: 0.5783\n",
            "Epoch 11/20\n",
            "6/6 [==============================] - 5s 774ms/step - loss: 0.9917 - binary_accuracy: 0.6734\n",
            "Epoch 12/20\n",
            "6/6 [==============================] - 5s 761ms/step - loss: 0.6738 - binary_accuracy: 0.5863\n",
            "Epoch 13/20\n",
            "6/6 [==============================] - 5s 778ms/step - loss: 0.6632 - binary_accuracy: 0.6091\n",
            "Epoch 14/20\n",
            "6/6 [==============================] - 5s 780ms/step - loss: 0.6095 - binary_accuracy: 0.6533\n",
            "Epoch 15/20\n",
            "6/6 [==============================] - 5s 767ms/step - loss: 0.5386 - binary_accuracy: 0.7550\n",
            "Epoch 16/20\n",
            "6/6 [==============================] - 5s 775ms/step - loss: 0.4884 - binary_accuracy: 0.7483\n",
            "Epoch 17/20\n",
            "6/6 [==============================] - 5s 768ms/step - loss: 0.5578 - binary_accuracy: 0.7805\n",
            "Epoch 18/20\n",
            "6/6 [==============================] - 7s 1s/step - loss: 0.3839 - binary_accuracy: 0.8353\n",
            "Epoch 19/20\n",
            "6/6 [==============================] - 5s 766ms/step - loss: 0.3412 - binary_accuracy: 0.8568\n",
            "Epoch 20/20\n",
            "6/6 [==============================] - 5s 754ms/step - loss: 0.2915 - binary_accuracy: 0.8889\n"
          ]
        },
        {
          "output_type": "stream",
          "name": "stderr",
          "text": [
            "WARNING:tensorflow:Layer lstm_1 will not use cuDNN kernels since it doesn't meet the criteria. It will use a generic GPU kernel as fallback when running on GPU.\n",
            "WARNING:tensorflow:Layer lstm_1 will not use cuDNN kernels since it doesn't meet the criteria. It will use a generic GPU kernel as fallback when running on GPU.\n",
            "WARNING:tensorflow:Layer lstm_1 will not use cuDNN kernels since it doesn't meet the criteria. It will use a generic GPU kernel as fallback when running on GPU.\n"
          ]
        },
        {
          "output_type": "stream",
          "name": "stdout",
          "text": [
            "Model Accuracy:  81.81818127632141\n",
            "Model: \"sequential_1\"\n",
            "_________________________________________________________________\n",
            " Layer (type)                Output Shape              Param #   \n",
            "=================================================================\n",
            " bidirectional_1 (Bidirectio  (None, 80, 2048)         16785408  \n",
            " nal)                                                            \n",
            "                                                                 \n",
            " flatten_1 (Flatten)         (None, 163840)            0         \n",
            "                                                                 \n",
            " dense_4 (Dense)             (None, 512)               83886592  \n",
            "                                                                 \n",
            " dropout_3 (Dropout)         (None, 512)               0         \n",
            "                                                                 \n",
            " dense_5 (Dense)             (None, 128)               65664     \n",
            "                                                                 \n",
            " dropout_4 (Dropout)         (None, 128)               0         \n",
            "                                                                 \n",
            " dense_6 (Dense)             (None, 32)                4128      \n",
            "                                                                 \n",
            " dropout_5 (Dropout)         (None, 32)                0         \n",
            "                                                                 \n",
            " dense_7 (Dense)             (None, 1)                 33        \n",
            "                                                                 \n",
            "=================================================================\n",
            "Total params: 100,741,825\n",
            "Trainable params: 100,741,825\n",
            "Non-trainable params: 0\n",
            "_________________________________________________________________\n",
            "Epoch 1/20\n",
            "6/6 [==============================] - 8s 778ms/step - loss: 3.5568 - binary_accuracy: 0.5288\n",
            "Epoch 2/20\n",
            "6/6 [==============================] - 5s 773ms/step - loss: 1.0034 - binary_accuracy: 0.4993\n",
            "Epoch 3/20\n",
            "6/6 [==============================] - 5s 773ms/step - loss: 0.8655 - binary_accuracy: 0.5127\n",
            "Epoch 4/20\n",
            "6/6 [==============================] - 5s 791ms/step - loss: 0.7561 - binary_accuracy: 0.5221\n",
            "Epoch 5/20\n",
            "6/6 [==============================] - 5s 782ms/step - loss: 0.7292 - binary_accuracy: 0.5341\n",
            "Epoch 6/20\n",
            "6/6 [==============================] - 5s 789ms/step - loss: 0.7077 - binary_accuracy: 0.5248\n",
            "Epoch 7/20\n",
            "6/6 [==============================] - 5s 787ms/step - loss: 0.6847 - binary_accuracy: 0.5649\n",
            "Epoch 8/20\n",
            "6/6 [==============================] - 5s 772ms/step - loss: 0.6629 - binary_accuracy: 0.5971\n",
            "Epoch 9/20\n",
            "6/6 [==============================] - 5s 771ms/step - loss: 0.5950 - binary_accuracy: 0.6760\n",
            "Epoch 10/20\n",
            "6/6 [==============================] - 5s 772ms/step - loss: 0.6174 - binary_accuracy: 0.6961\n",
            "Epoch 11/20\n",
            "6/6 [==============================] - 5s 774ms/step - loss: 0.5771 - binary_accuracy: 0.7122\n",
            "Epoch 12/20\n",
            "6/6 [==============================] - 5s 764ms/step - loss: 0.5001 - binary_accuracy: 0.7697\n",
            "Epoch 13/20\n",
            "6/6 [==============================] - 5s 756ms/step - loss: 0.4577 - binary_accuracy: 0.8179\n",
            "Epoch 14/20\n",
            "6/6 [==============================] - 5s 762ms/step - loss: 0.4069 - binary_accuracy: 0.8313\n",
            "Epoch 15/20\n",
            "6/6 [==============================] - 5s 756ms/step - loss: 0.3642 - binary_accuracy: 0.8608\n",
            "Epoch 16/20\n",
            "6/6 [==============================] - 5s 762ms/step - loss: 0.2696 - binary_accuracy: 0.8983\n",
            "Epoch 17/20\n",
            "6/6 [==============================] - 5s 762ms/step - loss: 0.2511 - binary_accuracy: 0.9183\n",
            "Epoch 18/20\n",
            "6/6 [==============================] - 5s 774ms/step - loss: 0.1510 - binary_accuracy: 0.9451\n",
            "Epoch 19/20\n",
            "6/6 [==============================] - 5s 760ms/step - loss: 0.0912 - binary_accuracy: 0.9665\n",
            "Epoch 20/20\n",
            "6/6 [==============================] - 5s 771ms/step - loss: 0.1151 - binary_accuracy: 0.9639\n"
          ]
        },
        {
          "output_type": "stream",
          "name": "stderr",
          "text": [
            "WARNING:tensorflow:Layer lstm_2 will not use cuDNN kernels since it doesn't meet the criteria. It will use a generic GPU kernel as fallback when running on GPU.\n",
            "WARNING:tensorflow:Layer lstm_2 will not use cuDNN kernels since it doesn't meet the criteria. It will use a generic GPU kernel as fallback when running on GPU.\n",
            "WARNING:tensorflow:Layer lstm_2 will not use cuDNN kernels since it doesn't meet the criteria. It will use a generic GPU kernel as fallback when running on GPU.\n"
          ]
        },
        {
          "output_type": "stream",
          "name": "stdout",
          "text": [
            "Model Accuracy:  73.79679083824158\n",
            "Model: \"sequential_2\"\n",
            "_________________________________________________________________\n",
            " Layer (type)                Output Shape              Param #   \n",
            "=================================================================\n",
            " bidirectional_2 (Bidirectio  (None, 80, 2048)         16785408  \n",
            " nal)                                                            \n",
            "                                                                 \n",
            " flatten_2 (Flatten)         (None, 163840)            0         \n",
            "                                                                 \n",
            " dense_8 (Dense)             (None, 512)               83886592  \n",
            "                                                                 \n",
            " dropout_6 (Dropout)         (None, 512)               0         \n",
            "                                                                 \n",
            " dense_9 (Dense)             (None, 128)               65664     \n",
            "                                                                 \n",
            " dropout_7 (Dropout)         (None, 128)               0         \n",
            "                                                                 \n",
            " dense_10 (Dense)            (None, 32)                4128      \n",
            "                                                                 \n",
            " dropout_8 (Dropout)         (None, 32)                0         \n",
            "                                                                 \n",
            " dense_11 (Dense)            (None, 1)                 33        \n",
            "                                                                 \n",
            "=================================================================\n",
            "Total params: 100,741,825\n",
            "Trainable params: 100,741,825\n",
            "Non-trainable params: 0\n",
            "_________________________________________________________________\n",
            "Epoch 1/20\n",
            "6/6 [==============================] - 9s 768ms/step - loss: 2.4357 - binary_accuracy: 0.5074\n",
            "Epoch 2/20\n",
            "6/6 [==============================] - 5s 778ms/step - loss: 0.9816 - binary_accuracy: 0.5127\n",
            "Epoch 3/20\n",
            "6/6 [==============================] - 5s 774ms/step - loss: 0.8972 - binary_accuracy: 0.5194\n",
            "Epoch 4/20\n",
            "6/6 [==============================] - 5s 784ms/step - loss: 0.7846 - binary_accuracy: 0.5422\n",
            "Epoch 5/20\n",
            "6/6 [==============================] - 5s 777ms/step - loss: 0.7427 - binary_accuracy: 0.5114\n",
            "Epoch 6/20\n",
            "6/6 [==============================] - 5s 782ms/step - loss: 0.7167 - binary_accuracy: 0.5301\n",
            "Epoch 7/20\n",
            "6/6 [==============================] - 5s 802ms/step - loss: 0.6957 - binary_accuracy: 0.5489\n",
            "Epoch 8/20\n",
            "6/6 [==============================] - 7s 1s/step - loss: 0.6584 - binary_accuracy: 0.6345\n",
            "Epoch 9/20\n",
            "6/6 [==============================] - 5s 765ms/step - loss: 0.6058 - binary_accuracy: 0.6894\n",
            "Epoch 10/20\n",
            "6/6 [==============================] - 5s 762ms/step - loss: 0.5502 - binary_accuracy: 0.7162\n",
            "Epoch 11/20\n",
            "6/6 [==============================] - 5s 775ms/step - loss: 0.4590 - binary_accuracy: 0.8139\n",
            "Epoch 12/20\n",
            "6/6 [==============================] - 5s 757ms/step - loss: 0.3664 - binary_accuracy: 0.8394\n",
            "Epoch 13/20\n",
            "6/6 [==============================] - 5s 767ms/step - loss: 0.3193 - binary_accuracy: 0.8768\n",
            "Epoch 14/20\n",
            "6/6 [==============================] - 5s 774ms/step - loss: 0.2706 - binary_accuracy: 0.8996\n",
            "Epoch 15/20\n",
            "6/6 [==============================] - 5s 786ms/step - loss: 0.2367 - binary_accuracy: 0.9090\n",
            "Epoch 16/20\n",
            "6/6 [==============================] - 5s 761ms/step - loss: 0.1664 - binary_accuracy: 0.9451\n",
            "Epoch 17/20\n",
            "6/6 [==============================] - 5s 765ms/step - loss: 0.1003 - binary_accuracy: 0.9652\n",
            "Epoch 18/20\n",
            "6/6 [==============================] - 5s 769ms/step - loss: 0.0726 - binary_accuracy: 0.9759\n",
            "Epoch 19/20\n",
            "6/6 [==============================] - 5s 771ms/step - loss: 0.0482 - binary_accuracy: 0.9826\n",
            "Epoch 20/20\n",
            "6/6 [==============================] - 5s 758ms/step - loss: 0.0330 - binary_accuracy: 0.9906\n"
          ]
        },
        {
          "output_type": "stream",
          "name": "stderr",
          "text": [
            "WARNING:tensorflow:Layer lstm_3 will not use cuDNN kernels since it doesn't meet the criteria. It will use a generic GPU kernel as fallback when running on GPU.\n",
            "WARNING:tensorflow:Layer lstm_3 will not use cuDNN kernels since it doesn't meet the criteria. It will use a generic GPU kernel as fallback when running on GPU.\n",
            "WARNING:tensorflow:Layer lstm_3 will not use cuDNN kernels since it doesn't meet the criteria. It will use a generic GPU kernel as fallback when running on GPU.\n"
          ]
        },
        {
          "output_type": "stream",
          "name": "stdout",
          "text": [
            "Model Accuracy:  73.79679083824158\n",
            "Model: \"sequential_3\"\n",
            "_________________________________________________________________\n",
            " Layer (type)                Output Shape              Param #   \n",
            "=================================================================\n",
            " bidirectional_3 (Bidirectio  (None, 80, 2048)         16785408  \n",
            " nal)                                                            \n",
            "                                                                 \n",
            " flatten_3 (Flatten)         (None, 163840)            0         \n",
            "                                                                 \n",
            " dense_12 (Dense)            (None, 512)               83886592  \n",
            "                                                                 \n",
            " dropout_9 (Dropout)         (None, 512)               0         \n",
            "                                                                 \n",
            " dense_13 (Dense)            (None, 128)               65664     \n",
            "                                                                 \n",
            " dropout_10 (Dropout)        (None, 128)               0         \n",
            "                                                                 \n",
            " dense_14 (Dense)            (None, 32)                4128      \n",
            "                                                                 \n",
            " dropout_11 (Dropout)        (None, 32)                0         \n",
            "                                                                 \n",
            " dense_15 (Dense)            (None, 1)                 33        \n",
            "                                                                 \n",
            "=================================================================\n",
            "Total params: 100,741,825\n",
            "Trainable params: 100,741,825\n",
            "Non-trainable params: 0\n",
            "_________________________________________________________________\n",
            "Epoch 1/20\n",
            "6/6 [==============================] - 9s 775ms/step - loss: 1.9878 - binary_accuracy: 0.5355\n",
            "Epoch 2/20\n",
            "6/6 [==============================] - 5s 755ms/step - loss: 0.8997 - binary_accuracy: 0.5007\n",
            "Epoch 3/20\n",
            "6/6 [==============================] - 5s 778ms/step - loss: 0.7435 - binary_accuracy: 0.5288\n",
            "Epoch 4/20\n",
            "6/6 [==============================] - 5s 775ms/step - loss: 0.7920 - binary_accuracy: 0.4846\n",
            "Epoch 5/20\n",
            "6/6 [==============================] - 5s 769ms/step - loss: 0.7376 - binary_accuracy: 0.5261\n",
            "Epoch 6/20\n",
            "6/6 [==============================] - 5s 776ms/step - loss: 0.7170 - binary_accuracy: 0.4993\n",
            "Epoch 7/20\n",
            "6/6 [==============================] - 5s 767ms/step - loss: 0.7243 - binary_accuracy: 0.5341\n",
            "Epoch 8/20\n",
            "6/6 [==============================] - 5s 776ms/step - loss: 0.8436 - binary_accuracy: 0.4940\n",
            "Epoch 9/20\n",
            "6/6 [==============================] - 5s 756ms/step - loss: 0.8023 - binary_accuracy: 0.5100\n",
            "Epoch 10/20\n",
            "6/6 [==============================] - 5s 778ms/step - loss: 0.7006 - binary_accuracy: 0.5301\n",
            "Epoch 11/20\n",
            "6/6 [==============================] - 5s 769ms/step - loss: 0.6886 - binary_accuracy: 0.5515\n",
            "Epoch 12/20\n",
            "6/6 [==============================] - 5s 769ms/step - loss: 0.6897 - binary_accuracy: 0.5422\n",
            "Epoch 13/20\n",
            "6/6 [==============================] - 5s 779ms/step - loss: 0.6684 - binary_accuracy: 0.5783\n",
            "Epoch 14/20\n",
            "6/6 [==============================] - 5s 765ms/step - loss: 0.6714 - binary_accuracy: 0.6091\n",
            "Epoch 15/20\n",
            "6/6 [==============================] - 5s 762ms/step - loss: 0.6300 - binary_accuracy: 0.6734\n",
            "Epoch 16/20\n",
            "6/6 [==============================] - 5s 758ms/step - loss: 0.5550 - binary_accuracy: 0.7537\n",
            "Epoch 17/20\n",
            "6/6 [==============================] - 5s 782ms/step - loss: 0.5201 - binary_accuracy: 0.7349\n",
            "Epoch 18/20\n",
            "6/6 [==============================] - 5s 763ms/step - loss: 0.4587 - binary_accuracy: 0.8046\n",
            "Epoch 19/20\n",
            "6/6 [==============================] - 5s 772ms/step - loss: 0.4345 - binary_accuracy: 0.8206\n",
            "Epoch 20/20\n",
            "6/6 [==============================] - 5s 774ms/step - loss: 0.3122 - binary_accuracy: 0.8768\n"
          ]
        },
        {
          "output_type": "stream",
          "name": "stderr",
          "text": [
            "WARNING:tensorflow:Layer lstm_4 will not use cuDNN kernels since it doesn't meet the criteria. It will use a generic GPU kernel as fallback when running on GPU.\n",
            "WARNING:tensorflow:Layer lstm_4 will not use cuDNN kernels since it doesn't meet the criteria. It will use a generic GPU kernel as fallback when running on GPU.\n",
            "WARNING:tensorflow:Layer lstm_4 will not use cuDNN kernels since it doesn't meet the criteria. It will use a generic GPU kernel as fallback when running on GPU.\n"
          ]
        },
        {
          "output_type": "stream",
          "name": "stdout",
          "text": [
            "Model Accuracy:  71.65775299072266\n",
            "Model: \"sequential_4\"\n",
            "_________________________________________________________________\n",
            " Layer (type)                Output Shape              Param #   \n",
            "=================================================================\n",
            " bidirectional_4 (Bidirectio  (None, 80, 2048)         16785408  \n",
            " nal)                                                            \n",
            "                                                                 \n",
            " flatten_4 (Flatten)         (None, 163840)            0         \n",
            "                                                                 \n",
            " dense_16 (Dense)            (None, 512)               83886592  \n",
            "                                                                 \n",
            " dropout_12 (Dropout)        (None, 512)               0         \n",
            "                                                                 \n",
            " dense_17 (Dense)            (None, 128)               65664     \n",
            "                                                                 \n",
            " dropout_13 (Dropout)        (None, 128)               0         \n",
            "                                                                 \n",
            " dense_18 (Dense)            (None, 32)                4128      \n",
            "                                                                 \n",
            " dropout_14 (Dropout)        (None, 32)                0         \n",
            "                                                                 \n",
            " dense_19 (Dense)            (None, 1)                 33        \n",
            "                                                                 \n",
            "=================================================================\n",
            "Total params: 100,741,825\n",
            "Trainable params: 100,741,825\n",
            "Non-trainable params: 0\n",
            "_________________________________________________________________\n",
            "Epoch 1/20\n",
            "6/6 [==============================] - 9s 779ms/step - loss: 2.5725 - binary_accuracy: 0.4933\n",
            "Epoch 2/20\n",
            "6/6 [==============================] - 5s 786ms/step - loss: 0.9880 - binary_accuracy: 0.4920\n",
            "Epoch 3/20\n",
            "6/6 [==============================] - 5s 775ms/step - loss: 0.8536 - binary_accuracy: 0.4947\n",
            "Epoch 4/20\n",
            "6/6 [==============================] - 5s 784ms/step - loss: 0.7358 - binary_accuracy: 0.5307\n",
            "Epoch 5/20\n",
            "6/6 [==============================] - 5s 775ms/step - loss: 0.7082 - binary_accuracy: 0.5695\n",
            "Epoch 6/20\n",
            "6/6 [==============================] - 5s 765ms/step - loss: 0.7153 - binary_accuracy: 0.5401\n",
            "Epoch 7/20\n",
            "6/6 [==============================] - 5s 760ms/step - loss: 0.6545 - binary_accuracy: 0.6056\n",
            "Epoch 8/20\n",
            "6/6 [==============================] - 6s 1s/step - loss: 0.6264 - binary_accuracy: 0.6631\n",
            "Epoch 9/20\n",
            "6/6 [==============================] - 6s 910ms/step - loss: 0.5620 - binary_accuracy: 0.7259\n",
            "Epoch 10/20\n",
            "6/6 [==============================] - 5s 793ms/step - loss: 0.5410 - binary_accuracy: 0.7540\n",
            "Epoch 11/20\n",
            "6/6 [==============================] - 5s 778ms/step - loss: 0.4579 - binary_accuracy: 0.8222\n",
            "Epoch 12/20\n",
            "6/6 [==============================] - 5s 771ms/step - loss: 0.3923 - binary_accuracy: 0.8489\n",
            "Epoch 13/20\n",
            "6/6 [==============================] - 5s 774ms/step - loss: 0.3372 - binary_accuracy: 0.8543\n",
            "Epoch 14/20\n",
            "6/6 [==============================] - 5s 772ms/step - loss: 0.2884 - binary_accuracy: 0.8904\n",
            "Epoch 15/20\n",
            "6/6 [==============================] - 5s 772ms/step - loss: 0.1831 - binary_accuracy: 0.9305\n",
            "Epoch 16/20\n",
            "6/6 [==============================] - 5s 767ms/step - loss: 0.1978 - binary_accuracy: 0.9385\n",
            "Epoch 17/20\n",
            "6/6 [==============================] - 5s 787ms/step - loss: 0.1259 - binary_accuracy: 0.9532\n",
            "Epoch 18/20\n",
            "6/6 [==============================] - 5s 774ms/step - loss: 0.0717 - binary_accuracy: 0.9826\n",
            "Epoch 19/20\n",
            "6/6 [==============================] - 5s 762ms/step - loss: 0.1790 - binary_accuracy: 0.9479\n",
            "Epoch 20/20\n",
            "6/6 [==============================] - 5s 790ms/step - loss: 0.1338 - binary_accuracy: 0.9532\n",
            "Model Accuracy:  70.43010592460632\n"
          ]
        }
      ]
    },
    {
      "cell_type": "code",
      "source": [
        "print(\"CV Scores: \", cvscores_xlnet)\n",
        "print(\"Mean Accuracy: \", np.mean(cvscores_xlnet))\n",
        "print(\"Standard Deviation: \", np.std(cvscores_xlnet))"
      ],
      "metadata": {
        "colab": {
          "base_uri": "https://localhost:8080/"
        },
        "id": "qpA-27OSf0AR",
        "outputId": "05e7ab47-db2f-47fa-ebc6-dcd0a7702fa7"
      },
      "execution_count": null,
      "outputs": [
        {
          "output_type": "stream",
          "name": "stdout",
          "text": [
            "CV Scores:  [81.81818127632141, 73.79679083824158, 73.79679083824158, 71.65775299072266, 70.43010592460632]\n",
            "Mean Accuracy:  74.29992437362671\n",
            "Standard Deviation:  3.974595275214584\n"
          ]
        }
      ]
    },
    {
      "cell_type": "markdown",
      "source": [
        "### Cross Validation with RoBERTa"
      ],
      "metadata": {
        "id": "01QgfxUMQclg"
      }
    },
    {
      "cell_type": "code",
      "source": [
        "# Converting whole dataset with Word Embeddings\n",
        "# This might take some time\n",
        "x_rba = embed_text(x, em_rba)"
      ],
      "metadata": {
        "id": "3eknBM1AGHb8"
      },
      "execution_count": null,
      "outputs": []
    },
    {
      "cell_type": "code",
      "source": [
        "x_pad_rba = pad_text(x_rba)"
      ],
      "metadata": {
        "id": "pOlcc_yCGTs8"
      },
      "execution_count": null,
      "outputs": []
    },
    {
      "cell_type": "code",
      "source": [
        "x_pad_rba.shape"
      ],
      "metadata": {
        "colab": {
          "base_uri": "https://localhost:8080/"
        },
        "id": "glC-Bw4cGmCL",
        "outputId": "6670b764-285d-4d2b-add4-ac9970dde7e7"
      },
      "execution_count": null,
      "outputs": [
        {
          "output_type": "execute_result",
          "data": {
            "text/plain": [
              "(934, 80, 1024)"
            ]
          },
          "metadata": {},
          "execution_count": 32
        }
      ]
    },
    {
      "cell_type": "code",
      "source": [
        "# Loading packages for LSTM model\n",
        "import tensorflow as tf\n",
        "from tensorflow.keras import regularizers\n",
        "\n",
        "from tensorflow.keras import layers\n",
        "from tensorflow.keras import losses"
      ],
      "metadata": {
        "id": "5wHQkdBFQjzS"
      },
      "execution_count": null,
      "outputs": []
    },
    {
      "cell_type": "code",
      "source": [
        "# List to store cv scores\n",
        "cvscores_rba = []\n",
        "# Model initialization\n",
        "max_features = 50000\n",
        "dim = 1024\n",
        "size = 80\n",
        "\n",
        "for train, test in kfold.split(x_pad_rba, y_final):\n",
        "  model_rba = tf.keras.Sequential()\n",
        "  #model_xlnet.add(tf.keras.layers.Embedding(max_features, dim, input_length = size))\n",
        "  #model_xlnet.add(tf.keras.layers.Dropout(0.4))\n",
        "\n",
        "  model_rba.add(tf.keras.layers.Bidirectional(tf.keras.layers.LSTM(dim, dropout=0.2, recurrent_dropout=0.2, \n",
        "                                                                   return_sequences=True),input_shape=(80,1024)))\n",
        "  model_rba.add(tf.keras.layers.Flatten())\n",
        "\n",
        "  model_rba.add(tf.keras.layers.Dense(512, activation='relu'))\n",
        "  model_rba.add(tf.keras.layers.Dropout(0.4))\n",
        "\n",
        "  model_rba.add(tf.keras.layers.Dense(128, activation='relu'))\n",
        "  model_rba.add(tf.keras.layers.Dropout(0.4))\n",
        "\n",
        "  model_rba.add(tf.keras.layers.Dense(32, activation='relu'))\n",
        "  model_rba.add(tf.keras.layers.Dropout(0.4))\n",
        "\n",
        "  model_rba.add(tf.keras.layers.Dense(1, activation='sigmoid'))\n",
        "\n",
        "  model_rba.summary()\n",
        "  model_rba.compile(loss=tf.keras.losses.BinaryCrossentropy(),\n",
        "                      optimizer=tf.keras.optimizers.legacy.Adam(1e-3),\n",
        "                      metrics=[tf.keras.metrics.BinaryAccuracy()])\n",
        "  \n",
        "  # Training the model\n",
        "  model_rba.fit(x_pad_rba[train], y_final[train], epochs = 20, batch_size = 128)\n",
        "  # Evaluating the model\n",
        "  scores_rba = model_rba.evaluate(x_pad_rba[test], y_final[test], verbose=0)\n",
        "  print(\"Model Accuracy: \", scores_rba[1]*100)\n",
        "  cvscores_rba.append(scores_rba[1] * 100)"
      ],
      "metadata": {
        "colab": {
          "base_uri": "https://localhost:8080/"
        },
        "id": "yKSYFe6uQmDJ",
        "outputId": "d1183fc0-7875-4e32-92ed-98cf9d4f9512"
      },
      "execution_count": null,
      "outputs": [
        {
          "output_type": "stream",
          "name": "stderr",
          "text": [
            "WARNING:tensorflow:Layer lstm will not use cuDNN kernels since it doesn't meet the criteria. It will use a generic GPU kernel as fallback when running on GPU.\n",
            "WARNING:tensorflow:Layer lstm will not use cuDNN kernels since it doesn't meet the criteria. It will use a generic GPU kernel as fallback when running on GPU.\n",
            "WARNING:tensorflow:Layer lstm will not use cuDNN kernels since it doesn't meet the criteria. It will use a generic GPU kernel as fallback when running on GPU.\n"
          ]
        },
        {
          "output_type": "stream",
          "name": "stdout",
          "text": [
            "Model: \"sequential\"\n",
            "_________________________________________________________________\n",
            " Layer (type)                Output Shape              Param #   \n",
            "=================================================================\n",
            " bidirectional (Bidirectiona  (None, 80, 2048)         16785408  \n",
            " l)                                                              \n",
            "                                                                 \n",
            " flatten (Flatten)           (None, 163840)            0         \n",
            "                                                                 \n",
            " dense (Dense)               (None, 512)               83886592  \n",
            "                                                                 \n",
            " dropout (Dropout)           (None, 512)               0         \n",
            "                                                                 \n",
            " dense_1 (Dense)             (None, 128)               65664     \n",
            "                                                                 \n",
            " dropout_1 (Dropout)         (None, 128)               0         \n",
            "                                                                 \n",
            " dense_2 (Dense)             (None, 32)                4128      \n",
            "                                                                 \n",
            " dropout_2 (Dropout)         (None, 32)                0         \n",
            "                                                                 \n",
            " dense_3 (Dense)             (None, 1)                 33        \n",
            "                                                                 \n",
            "=================================================================\n",
            "Total params: 100,741,825\n",
            "Trainable params: 100,741,825\n",
            "Non-trainable params: 0\n",
            "_________________________________________________________________\n",
            "Epoch 1/20\n",
            "6/6 [==============================] - 12s 772ms/step - loss: 3.9324 - binary_accuracy: 0.5074\n",
            "Epoch 2/20\n",
            "6/6 [==============================] - 4s 746ms/step - loss: 1.1211 - binary_accuracy: 0.5395\n",
            "Epoch 3/20\n",
            "6/6 [==============================] - 5s 865ms/step - loss: 0.7877 - binary_accuracy: 0.5395\n",
            "Epoch 4/20\n",
            "6/6 [==============================] - 5s 744ms/step - loss: 0.7442 - binary_accuracy: 0.5114\n",
            "Epoch 5/20\n",
            "6/6 [==============================] - 4s 753ms/step - loss: 0.6997 - binary_accuracy: 0.5689\n",
            "Epoch 6/20\n",
            "6/6 [==============================] - 4s 746ms/step - loss: 0.6660 - binary_accuracy: 0.6131\n",
            "Epoch 7/20\n",
            "6/6 [==============================] - 5s 754ms/step - loss: 0.6056 - binary_accuracy: 0.6827\n",
            "Epoch 8/20\n",
            "6/6 [==============================] - 5s 758ms/step - loss: 0.5228 - binary_accuracy: 0.7537\n",
            "Epoch 9/20\n",
            "6/6 [==============================] - 5s 755ms/step - loss: 0.4052 - binary_accuracy: 0.8367\n",
            "Epoch 10/20\n",
            "6/6 [==============================] - 4s 741ms/step - loss: 0.3509 - binary_accuracy: 0.8514\n",
            "Epoch 11/20\n",
            "6/6 [==============================] - 5s 758ms/step - loss: 0.3347 - binary_accuracy: 0.8742\n",
            "Epoch 12/20\n",
            "6/6 [==============================] - 5s 759ms/step - loss: 0.2884 - binary_accuracy: 0.9023\n",
            "Epoch 13/20\n",
            "6/6 [==============================] - 4s 730ms/step - loss: 0.2004 - binary_accuracy: 0.9264\n",
            "Epoch 14/20\n",
            "6/6 [==============================] - 5s 757ms/step - loss: 0.1817 - binary_accuracy: 0.9317\n",
            "Epoch 15/20\n",
            "6/6 [==============================] - 4s 741ms/step - loss: 0.1173 - binary_accuracy: 0.9612\n",
            "Epoch 16/20\n",
            "6/6 [==============================] - 5s 762ms/step - loss: 0.1552 - binary_accuracy: 0.9505\n",
            "Epoch 17/20\n",
            "6/6 [==============================] - 5s 758ms/step - loss: 0.1762 - binary_accuracy: 0.9384\n",
            "Epoch 18/20\n",
            "6/6 [==============================] - 5s 763ms/step - loss: 0.1361 - binary_accuracy: 0.9451\n",
            "Epoch 19/20\n",
            "6/6 [==============================] - 5s 761ms/step - loss: 0.0998 - binary_accuracy: 0.9692\n",
            "Epoch 20/20\n",
            "6/6 [==============================] - 5s 754ms/step - loss: 0.0542 - binary_accuracy: 0.9853\n"
          ]
        },
        {
          "output_type": "stream",
          "name": "stderr",
          "text": [
            "WARNING:tensorflow:Layer lstm_1 will not use cuDNN kernels since it doesn't meet the criteria. It will use a generic GPU kernel as fallback when running on GPU.\n",
            "WARNING:tensorflow:Layer lstm_1 will not use cuDNN kernels since it doesn't meet the criteria. It will use a generic GPU kernel as fallback when running on GPU.\n",
            "WARNING:tensorflow:Layer lstm_1 will not use cuDNN kernels since it doesn't meet the criteria. It will use a generic GPU kernel as fallback when running on GPU.\n"
          ]
        },
        {
          "output_type": "stream",
          "name": "stdout",
          "text": [
            "Model Accuracy:  82.88770318031311\n",
            "Model: \"sequential_1\"\n",
            "_________________________________________________________________\n",
            " Layer (type)                Output Shape              Param #   \n",
            "=================================================================\n",
            " bidirectional_1 (Bidirectio  (None, 80, 2048)         16785408  \n",
            " nal)                                                            \n",
            "                                                                 \n",
            " flatten_1 (Flatten)         (None, 163840)            0         \n",
            "                                                                 \n",
            " dense_4 (Dense)             (None, 512)               83886592  \n",
            "                                                                 \n",
            " dropout_3 (Dropout)         (None, 512)               0         \n",
            "                                                                 \n",
            " dense_5 (Dense)             (None, 128)               65664     \n",
            "                                                                 \n",
            " dropout_4 (Dropout)         (None, 128)               0         \n",
            "                                                                 \n",
            " dense_6 (Dense)             (None, 32)                4128      \n",
            "                                                                 \n",
            " dropout_5 (Dropout)         (None, 32)                0         \n",
            "                                                                 \n",
            " dense_7 (Dense)             (None, 1)                 33        \n",
            "                                                                 \n",
            "=================================================================\n",
            "Total params: 100,741,825\n",
            "Trainable params: 100,741,825\n",
            "Non-trainable params: 0\n",
            "_________________________________________________________________\n",
            "Epoch 1/20\n",
            "6/6 [==============================] - 8s 750ms/step - loss: 3.3021 - binary_accuracy: 0.4967\n",
            "Epoch 2/20\n",
            "6/6 [==============================] - 5s 769ms/step - loss: 0.9810 - binary_accuracy: 0.4846\n",
            "Epoch 3/20\n",
            "6/6 [==============================] - 5s 760ms/step - loss: 0.8022 - binary_accuracy: 0.5288\n",
            "Epoch 4/20\n",
            "6/6 [==============================] - 5s 758ms/step - loss: 0.7281 - binary_accuracy: 0.5355\n",
            "Epoch 5/20\n",
            "6/6 [==============================] - 5s 765ms/step - loss: 0.6924 - binary_accuracy: 0.6024\n",
            "Epoch 6/20\n",
            "6/6 [==============================] - 5s 760ms/step - loss: 0.6157 - binary_accuracy: 0.7095\n",
            "Epoch 7/20\n",
            "6/6 [==============================] - 5s 760ms/step - loss: 0.5470 - binary_accuracy: 0.7390\n",
            "Epoch 8/20\n",
            "6/6 [==============================] - 5s 751ms/step - loss: 0.4712 - binary_accuracy: 0.8139\n",
            "Epoch 9/20\n",
            "6/6 [==============================] - 5s 770ms/step - loss: 0.4304 - binary_accuracy: 0.8179\n",
            "Epoch 10/20\n",
            "6/6 [==============================] - 5s 754ms/step - loss: 0.3898 - binary_accuracy: 0.8527\n",
            "Epoch 11/20\n",
            "6/6 [==============================] - 5s 852ms/step - loss: 0.3069 - binary_accuracy: 0.8876\n",
            "Epoch 12/20\n",
            "6/6 [==============================] - 7s 1s/step - loss: 0.2827 - binary_accuracy: 0.8876\n",
            "Epoch 13/20\n",
            "6/6 [==============================] - 5s 757ms/step - loss: 0.2456 - binary_accuracy: 0.8969\n",
            "Epoch 14/20\n",
            "6/6 [==============================] - 4s 750ms/step - loss: 0.2402 - binary_accuracy: 0.9170\n",
            "Epoch 15/20\n",
            "6/6 [==============================] - 5s 766ms/step - loss: 0.1718 - binary_accuracy: 0.9344\n",
            "Epoch 16/20\n",
            "6/6 [==============================] - 5s 770ms/step - loss: 0.1087 - binary_accuracy: 0.9625\n",
            "Epoch 17/20\n",
            "6/6 [==============================] - 5s 762ms/step - loss: 0.0940 - binary_accuracy: 0.9652\n",
            "Epoch 18/20\n",
            "6/6 [==============================] - 5s 765ms/step - loss: 0.1254 - binary_accuracy: 0.9491\n",
            "Epoch 19/20\n",
            "6/6 [==============================] - 5s 768ms/step - loss: 0.1106 - binary_accuracy: 0.9639\n",
            "Epoch 20/20\n",
            "6/6 [==============================] - 5s 754ms/step - loss: 0.0642 - binary_accuracy: 0.9786\n"
          ]
        },
        {
          "output_type": "stream",
          "name": "stderr",
          "text": [
            "WARNING:tensorflow:Layer lstm_2 will not use cuDNN kernels since it doesn't meet the criteria. It will use a generic GPU kernel as fallback when running on GPU.\n",
            "WARNING:tensorflow:Layer lstm_2 will not use cuDNN kernels since it doesn't meet the criteria. It will use a generic GPU kernel as fallback when running on GPU.\n",
            "WARNING:tensorflow:Layer lstm_2 will not use cuDNN kernels since it doesn't meet the criteria. It will use a generic GPU kernel as fallback when running on GPU.\n"
          ]
        },
        {
          "output_type": "stream",
          "name": "stdout",
          "text": [
            "Model Accuracy:  88.77005577087402\n",
            "Model: \"sequential_2\"\n",
            "_________________________________________________________________\n",
            " Layer (type)                Output Shape              Param #   \n",
            "=================================================================\n",
            " bidirectional_2 (Bidirectio  (None, 80, 2048)         16785408  \n",
            " nal)                                                            \n",
            "                                                                 \n",
            " flatten_2 (Flatten)         (None, 163840)            0         \n",
            "                                                                 \n",
            " dense_8 (Dense)             (None, 512)               83886592  \n",
            "                                                                 \n",
            " dropout_6 (Dropout)         (None, 512)               0         \n",
            "                                                                 \n",
            " dense_9 (Dense)             (None, 128)               65664     \n",
            "                                                                 \n",
            " dropout_7 (Dropout)         (None, 128)               0         \n",
            "                                                                 \n",
            " dense_10 (Dense)            (None, 32)                4128      \n",
            "                                                                 \n",
            " dropout_8 (Dropout)         (None, 32)                0         \n",
            "                                                                 \n",
            " dense_11 (Dense)            (None, 1)                 33        \n",
            "                                                                 \n",
            "=================================================================\n",
            "Total params: 100,741,825\n",
            "Trainable params: 100,741,825\n",
            "Non-trainable params: 0\n",
            "_________________________________________________________________\n",
            "Epoch 1/20\n",
            "6/6 [==============================] - 9s 751ms/step - loss: 2.4105 - binary_accuracy: 0.5207\n",
            "Epoch 2/20\n",
            "6/6 [==============================] - 5s 750ms/step - loss: 1.1370 - binary_accuracy: 0.5087\n",
            "Epoch 3/20\n",
            "6/6 [==============================] - 5s 756ms/step - loss: 0.8802 - binary_accuracy: 0.5328\n",
            "Epoch 4/20\n",
            "6/6 [==============================] - 5s 757ms/step - loss: 0.8102 - binary_accuracy: 0.5248\n",
            "Epoch 5/20\n",
            "6/6 [==============================] - 4s 747ms/step - loss: 0.7551 - binary_accuracy: 0.5529\n",
            "Epoch 6/20\n",
            "6/6 [==============================] - 5s 767ms/step - loss: 0.7244 - binary_accuracy: 0.5141\n",
            "Epoch 7/20\n",
            "6/6 [==============================] - 4s 748ms/step - loss: 0.7152 - binary_accuracy: 0.5435\n",
            "Epoch 8/20\n",
            "6/6 [==============================] - 5s 757ms/step - loss: 0.7003 - binary_accuracy: 0.5850\n",
            "Epoch 9/20\n",
            "6/6 [==============================] - 5s 762ms/step - loss: 0.6205 - binary_accuracy: 0.6667\n",
            "Epoch 10/20\n",
            "6/6 [==============================] - 5s 765ms/step - loss: 0.5272 - binary_accuracy: 0.7497\n",
            "Epoch 11/20\n",
            "6/6 [==============================] - 5s 769ms/step - loss: 0.5045 - binary_accuracy: 0.7898\n",
            "Epoch 12/20\n",
            "6/6 [==============================] - 5s 785ms/step - loss: 0.3969 - binary_accuracy: 0.8313\n",
            "Epoch 13/20\n",
            "6/6 [==============================] - 5s 767ms/step - loss: 0.3876 - binary_accuracy: 0.8420\n",
            "Epoch 14/20\n",
            "6/6 [==============================] - 5s 771ms/step - loss: 0.3450 - binary_accuracy: 0.8675\n",
            "Epoch 15/20\n",
            "6/6 [==============================] - 5s 780ms/step - loss: 0.2474 - binary_accuracy: 0.8929\n",
            "Epoch 16/20\n",
            "6/6 [==============================] - 5s 793ms/step - loss: 0.1945 - binary_accuracy: 0.9237\n",
            "Epoch 17/20\n",
            "6/6 [==============================] - 5s 812ms/step - loss: 0.1582 - binary_accuracy: 0.9384\n",
            "Epoch 18/20\n",
            "6/6 [==============================] - 5s 785ms/step - loss: 0.1528 - binary_accuracy: 0.9545\n",
            "Epoch 19/20\n",
            "6/6 [==============================] - 5s 794ms/step - loss: 0.2775 - binary_accuracy: 0.8969\n",
            "Epoch 20/20\n",
            "6/6 [==============================] - 5s 769ms/step - loss: 0.1523 - binary_accuracy: 0.9612\n"
          ]
        },
        {
          "output_type": "stream",
          "name": "stderr",
          "text": [
            "WARNING:tensorflow:Layer lstm_3 will not use cuDNN kernels since it doesn't meet the criteria. It will use a generic GPU kernel as fallback when running on GPU.\n",
            "WARNING:tensorflow:Layer lstm_3 will not use cuDNN kernels since it doesn't meet the criteria. It will use a generic GPU kernel as fallback when running on GPU.\n",
            "WARNING:tensorflow:Layer lstm_3 will not use cuDNN kernels since it doesn't meet the criteria. It will use a generic GPU kernel as fallback when running on GPU.\n"
          ]
        },
        {
          "output_type": "stream",
          "name": "stdout",
          "text": [
            "Model Accuracy:  86.6310179233551\n",
            "Model: \"sequential_3\"\n",
            "_________________________________________________________________\n",
            " Layer (type)                Output Shape              Param #   \n",
            "=================================================================\n",
            " bidirectional_3 (Bidirectio  (None, 80, 2048)         16785408  \n",
            " nal)                                                            \n",
            "                                                                 \n",
            " flatten_3 (Flatten)         (None, 163840)            0         \n",
            "                                                                 \n",
            " dense_12 (Dense)            (None, 512)               83886592  \n",
            "                                                                 \n",
            " dropout_9 (Dropout)         (None, 512)               0         \n",
            "                                                                 \n",
            " dense_13 (Dense)            (None, 128)               65664     \n",
            "                                                                 \n",
            " dropout_10 (Dropout)        (None, 128)               0         \n",
            "                                                                 \n",
            " dense_14 (Dense)            (None, 32)                4128      \n",
            "                                                                 \n",
            " dropout_11 (Dropout)        (None, 32)                0         \n",
            "                                                                 \n",
            " dense_15 (Dense)            (None, 1)                 33        \n",
            "                                                                 \n",
            "=================================================================\n",
            "Total params: 100,741,825\n",
            "Trainable params: 100,741,825\n",
            "Non-trainable params: 0\n",
            "_________________________________________________________________\n",
            "Epoch 1/20\n",
            "6/6 [==============================] - 8s 735ms/step - loss: 2.8711 - binary_accuracy: 0.4940\n",
            "Epoch 2/20\n",
            "6/6 [==============================] - 5s 747ms/step - loss: 1.0559 - binary_accuracy: 0.5100\n",
            "Epoch 3/20\n",
            "6/6 [==============================] - 5s 757ms/step - loss: 0.8488 - binary_accuracy: 0.5100\n",
            "Epoch 4/20\n",
            "6/6 [==============================] - 5s 751ms/step - loss: 0.8224 - binary_accuracy: 0.4752\n",
            "Epoch 5/20\n",
            "6/6 [==============================] - 5s 756ms/step - loss: 0.7206 - binary_accuracy: 0.5475\n",
            "Epoch 6/20\n",
            "6/6 [==============================] - 5s 757ms/step - loss: 0.7241 - binary_accuracy: 0.5087\n",
            "Epoch 7/20\n",
            "6/6 [==============================] - 5s 749ms/step - loss: 0.7108 - binary_accuracy: 0.5489\n",
            "Epoch 8/20\n",
            "6/6 [==============================] - 5s 751ms/step - loss: 0.6873 - binary_accuracy: 0.5596\n",
            "Epoch 9/20\n",
            "6/6 [==============================] - 5s 777ms/step - loss: 0.6875 - binary_accuracy: 0.5636\n",
            "Epoch 10/20\n",
            "6/6 [==============================] - 5s 759ms/step - loss: 0.6380 - binary_accuracy: 0.6238\n",
            "Epoch 11/20\n",
            "6/6 [==============================] - 5s 747ms/step - loss: 0.5561 - binary_accuracy: 0.7242\n",
            "Epoch 12/20\n",
            "6/6 [==============================] - 5s 768ms/step - loss: 0.4400 - binary_accuracy: 0.8019\n",
            "Epoch 13/20\n",
            "6/6 [==============================] - 5s 773ms/step - loss: 0.4023 - binary_accuracy: 0.8407\n",
            "Epoch 14/20\n",
            "6/6 [==============================] - 5s 771ms/step - loss: 0.4261 - binary_accuracy: 0.7738\n",
            "Epoch 15/20\n",
            "6/6 [==============================] - 5s 755ms/step - loss: 0.2738 - binary_accuracy: 0.9050\n",
            "Epoch 16/20\n",
            "6/6 [==============================] - 5s 770ms/step - loss: 0.2381 - binary_accuracy: 0.9130\n",
            "Epoch 17/20\n",
            "6/6 [==============================] - 5s 775ms/step - loss: 0.1782 - binary_accuracy: 0.9344\n",
            "Epoch 18/20\n",
            "6/6 [==============================] - 5s 770ms/step - loss: 0.1459 - binary_accuracy: 0.9545\n",
            "Epoch 19/20\n",
            "6/6 [==============================] - 5s 778ms/step - loss: 0.1097 - binary_accuracy: 0.9612\n",
            "Epoch 20/20\n",
            "6/6 [==============================] - 5s 780ms/step - loss: 0.1280 - binary_accuracy: 0.9585\n"
          ]
        },
        {
          "output_type": "stream",
          "name": "stderr",
          "text": [
            "WARNING:tensorflow:Layer lstm_4 will not use cuDNN kernels since it doesn't meet the criteria. It will use a generic GPU kernel as fallback when running on GPU.\n",
            "WARNING:tensorflow:Layer lstm_4 will not use cuDNN kernels since it doesn't meet the criteria. It will use a generic GPU kernel as fallback when running on GPU.\n",
            "WARNING:tensorflow:Layer lstm_4 will not use cuDNN kernels since it doesn't meet the criteria. It will use a generic GPU kernel as fallback when running on GPU.\n"
          ]
        },
        {
          "output_type": "stream",
          "name": "stdout",
          "text": [
            "Model Accuracy:  83.42245817184448\n",
            "Model: \"sequential_4\"\n",
            "_________________________________________________________________\n",
            " Layer (type)                Output Shape              Param #   \n",
            "=================================================================\n",
            " bidirectional_4 (Bidirectio  (None, 80, 2048)         16785408  \n",
            " nal)                                                            \n",
            "                                                                 \n",
            " flatten_4 (Flatten)         (None, 163840)            0         \n",
            "                                                                 \n",
            " dense_16 (Dense)            (None, 512)               83886592  \n",
            "                                                                 \n",
            " dropout_12 (Dropout)        (None, 512)               0         \n",
            "                                                                 \n",
            " dense_17 (Dense)            (None, 128)               65664     \n",
            "                                                                 \n",
            " dropout_13 (Dropout)        (None, 128)               0         \n",
            "                                                                 \n",
            " dense_18 (Dense)            (None, 32)                4128      \n",
            "                                                                 \n",
            " dropout_14 (Dropout)        (None, 32)                0         \n",
            "                                                                 \n",
            " dense_19 (Dense)            (None, 1)                 33        \n",
            "                                                                 \n",
            "=================================================================\n",
            "Total params: 100,741,825\n",
            "Trainable params: 100,741,825\n",
            "Non-trainable params: 0\n",
            "_________________________________________________________________\n",
            "Epoch 1/20\n",
            "6/6 [==============================] - 9s 758ms/step - loss: 2.4084 - binary_accuracy: 0.5013\n",
            "Epoch 2/20\n",
            "6/6 [==============================] - 4s 743ms/step - loss: 0.9122 - binary_accuracy: 0.5067\n",
            "Epoch 3/20\n",
            "6/6 [==============================] - 5s 754ms/step - loss: 0.7555 - binary_accuracy: 0.5201\n",
            "Epoch 4/20\n",
            "6/6 [==============================] - 5s 766ms/step - loss: 0.7385 - binary_accuracy: 0.5321\n",
            "Epoch 5/20\n",
            "6/6 [==============================] - 5s 759ms/step - loss: 0.6781 - binary_accuracy: 0.6150\n",
            "Epoch 6/20\n",
            "6/6 [==============================] - 5s 754ms/step - loss: 0.6107 - binary_accuracy: 0.6604\n",
            "Epoch 7/20\n",
            "6/6 [==============================] - 5s 769ms/step - loss: 0.5407 - binary_accuracy: 0.7660\n",
            "Epoch 8/20\n",
            "6/6 [==============================] - 5s 773ms/step - loss: 0.4380 - binary_accuracy: 0.8316\n",
            "Epoch 9/20\n",
            "6/6 [==============================] - 5s 757ms/step - loss: 0.3701 - binary_accuracy: 0.8650\n",
            "Epoch 10/20\n",
            "6/6 [==============================] - 5s 758ms/step - loss: 0.3223 - binary_accuracy: 0.8663\n",
            "Epoch 11/20\n",
            "6/6 [==============================] - 5s 777ms/step - loss: 0.2940 - binary_accuracy: 0.8904\n",
            "Epoch 12/20\n",
            "6/6 [==============================] - 6s 1s/step - loss: 0.2434 - binary_accuracy: 0.9118\n",
            "Epoch 13/20\n",
            "6/6 [==============================] - 6s 924ms/step - loss: 0.2116 - binary_accuracy: 0.9278\n",
            "Epoch 14/20\n",
            "6/6 [==============================] - 5s 765ms/step - loss: 0.1429 - binary_accuracy: 0.9492\n",
            "Epoch 15/20\n",
            "6/6 [==============================] - 5s 769ms/step - loss: 0.1575 - binary_accuracy: 0.9465\n",
            "Epoch 16/20\n",
            "6/6 [==============================] - 5s 773ms/step - loss: 0.1183 - binary_accuracy: 0.9545\n",
            "Epoch 17/20\n",
            "6/6 [==============================] - 5s 770ms/step - loss: 0.0692 - binary_accuracy: 0.9719\n",
            "Epoch 18/20\n",
            "6/6 [==============================] - 5s 749ms/step - loss: 0.0915 - binary_accuracy: 0.9719\n",
            "Epoch 19/20\n",
            "6/6 [==============================] - 5s 767ms/step - loss: 0.0821 - binary_accuracy: 0.9746\n",
            "Epoch 20/20\n",
            "6/6 [==============================] - 5s 761ms/step - loss: 0.0500 - binary_accuracy: 0.9826\n",
            "Model Accuracy:  84.40860509872437\n"
          ]
        }
      ]
    },
    {
      "cell_type": "code",
      "source": [
        "print(\"CV Scores: \", cvscores_rba)\n",
        "print(\"Mean Accuracy: \", np.mean(cvscores_rba))\n",
        "print(\"Standard Deviation: \", np.std(cvscores_rba))"
      ],
      "metadata": {
        "colab": {
          "base_uri": "https://localhost:8080/"
        },
        "id": "8fzRXWDEhE6V",
        "outputId": "4101709c-0a30-4ef9-ac4f-c261a2bfe5c9"
      },
      "execution_count": null,
      "outputs": [
        {
          "output_type": "stream",
          "name": "stdout",
          "text": [
            "CV Scores:  [82.88770318031311, 88.77005577087402, 86.6310179233551, 83.42245817184448, 84.40860509872437]\n",
            "Mean Accuracy:  85.22396802902222\n",
            "Standard Deviation:  2.187368994704828\n"
          ]
        }
      ]
    }
  ]
}